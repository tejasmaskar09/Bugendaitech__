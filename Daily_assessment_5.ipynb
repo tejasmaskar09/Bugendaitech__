{
 "cells": [
  {
   "cell_type": "code",
   "execution_count": 7,
   "id": "3a39e0c2",
   "metadata": {},
   "outputs": [],
   "source": [
    "students = {\n",
    "    1: {'name': 'Tej', 'age': 20},\n",
    "    2: {'name': 'Abc', 'age': 21}\n",
    "}\n"
   ]
  },
  {
   "cell_type": "code",
   "execution_count": null,
   "id": "cf628437",
   "metadata": {},
   "outputs": [
    {
     "name": "stdout",
     "output_type": "stream",
     "text": [
      "[(1, 'Alice', 20), (2, 'Bob', 20), (3, 'Tej', 20), (4, 'Mike', 22), (6, 'Nishant', 28), (7, 'Ved', 24), (8, 'Rohan', 29), (10, 'Ayush', 25), (11, 'Ved', 24), (12, 'Rohan', 29), (13, 'Nishant', 28)]\n"
     ]
    }
   ],
   "source": [
    "import sqlite3\n",
    "new= sqlite3.connect('students.db')  \n",
    "c=new.cursor()\n",
    "query=\"\"\" select * from student \"\"\"\n",
    "output = c.execute(query).fetchall()\n",
    "print(output)   "
   ]
  },
  {
   "cell_type": "code",
   "execution_count": 10,
   "id": "bf0b98a0",
   "metadata": {},
   "outputs": [],
   "source": [
    "query = \"INSERT INTO student (name, age) VALUES ('Tejas', 18)\"\n",
    "c.execute(query)\n",
    "new.commit() "
   ]
  },
  {
   "cell_type": "code",
   "execution_count": 11,
   "id": "a2292cee",
   "metadata": {},
   "outputs": [
    {
     "name": "stdout",
     "output_type": "stream",
     "text": [
      "[(1, 'Alice', 20), (2, 'Bob', 20), (3, 'Tej', 20), (4, 'Mike', 22), (6, 'Nishant', 28), (7, 'Ved', 24), (8, 'Rohan', 29), (10, 'Ayush', 25), (11, 'Ved', 24), (12, 'Rohan', 29), (13, 'Nishant', 28), (14, 'Tejas', 18)]\n"
     ]
    }
   ],
   "source": [
    "c.execute(\"SELECT * FROM student\")\n",
    "output = c.fetchall()\n",
    "print(output)"
   ]
  },
  {
   "cell_type": "code",
   "execution_count": 13,
   "id": "bc9c8c4f",
   "metadata": {},
   "outputs": [
    {
     "name": "stdout",
     "output_type": "stream",
     "text": [
      "[(1, 'Alice', 20), (2, 'Bob', 20), (3, 'Tej', 20), (4, 'Mike', 22), (6, 'Nishant', 28), (7, 'Ved', 24), (8, 'Rohan', 29), (10, 'Ayush', 25), (11, 'Ved', 24), (12, 'Rohan', 29), (13, 'Nishant', 28)]\n"
     ]
    }
   ],
   "source": [
    "c.execute(\"delete from student where name='Tejas'  \")\n",
    "new.commit()\n",
    "c.execute(\"SELECT * FROM student\")\n",
    "output = c.fetchall()\n",
    "print(output)"
   ]
  },
  {
   "cell_type": "code",
   "execution_count": 14,
   "id": "0426af0e",
   "metadata": {},
   "outputs": [
    {
     "name": "stdout",
     "output_type": "stream",
     "text": [
      "[(1, 'Alice', 20), (2, 'Bob', 20), (3, 'Tej', 20), (4, 'Mike', 22), (6, 'Nishant', 28), (7, 'Ved', 24), (8, 'Rohan', 29), (10, 'Ayush', 25), (11, 'Ved', 24), (12, 'Rohan', 29), (13, 'Nishant', 28), (14, 'tejas', 18)]\n"
     ]
    }
   ],
   "source": [
    "c.execute(\"Insert into student (name , age) values ('tejas',18)\")\n",
    "new.commit()\n",
    "\n",
    "c.execute(\"SELECT * FROM student\")\n",
    "output = c.fetchall()\n",
    "print(output)"
   ]
  },
  {
   "cell_type": "code",
   "execution_count": 15,
   "id": "779fad0f",
   "metadata": {},
   "outputs": [
    {
     "name": "stdout",
     "output_type": "stream",
     "text": [
      "[(1, 'Alice', 20), (2, 'Bob', 20), (3, 'Tej', 20), (4, 'Mike', 22), (6, 'Nishant', 28), (7, 'Ved', 24), (8, 'Rohan', 29), (10, 'Ayush', 25), (11, 'Ved', 24), (12, 'Rohan', 29), (13, 'Nishant', 28), (14, 'tejas', 18)]\n"
     ]
    }
   ],
   "source": [
    "c.execute(\"Update student set age = 20 where name ='Bob'\")\n",
    "new.commit()\n",
    "c.execute(\"SELECT * FROM student\")\n",
    "output = c.fetchall()\n",
    "print(output)"
   ]
  },
  {
   "cell_type": "code",
   "execution_count": 16,
   "id": "512e45eb",
   "metadata": {},
   "outputs": [
    {
     "name": "stdout",
     "output_type": "stream",
     "text": [
      "[(12,)]\n"
     ]
    }
   ],
   "source": [
    "c.execute(\"select count(*) from student\")\n",
    "output = c.fetchall()\n",
    "print(output)"
   ]
  },
  {
   "cell_type": "code",
   "execution_count": null,
   "id": "c805b7ab",
   "metadata": {},
   "outputs": [],
   "source": [
    "\n",
    "\n"
   ]
  },
  {
   "cell_type": "code",
   "execution_count": 23,
   "id": "92e562fc",
   "metadata": {},
   "outputs": [
    {
     "name": "stdout",
     "output_type": "stream",
     "text": [
      "[(1, 'Alice', 20), (2, 'Bob', 20), (3, 'Tej', 20), (4, 'Mike', 22), (6, 'Nishant', 28), (7, 'Ved', 24), (8, 'Rohan', 29), (10, 'Ayush', 25), (11, 'Ved', 24), (12, 'Rohan', 29), (13, 'Nishant', 28), (14, 'tejas', 18)]\n"
     ]
    }
   ],
   "source": [
    "c.execute(\"delete from student where age=19\")\n",
    "new.commit()    \n",
    "c.execute(\"select* from student\")\n",
    "output = c.fetchall()\n",
    "print(output)"
   ]
  },
  {
   "cell_type": "code",
   "execution_count": 24,
   "id": "51947603",
   "metadata": {},
   "outputs": [
    {
     "name": "stdout",
     "output_type": "stream",
     "text": [
      "[(1, 'Alice', 20), (2, 'Bob', 20), (3, 'Tej', 20), (4, 'Mike', 22), (6, 'Nishant', 28), (7, 'Ved', 24), (8, 'Rohan', 29), (10, 'Ayush', 25), (11, 'Ved', 24), (12, 'Rohan', 29), (13, 'Nishant', 28)]\n"
     ]
    }
   ],
   "source": [
    "c.execute(\"select * from student where age >= 20\")\n",
    "output = c.fetchall()\n",
    "print(output)"
   ]
  },
  {
   "cell_type": "code",
   "execution_count": 20,
   "id": "12d5414a",
   "metadata": {},
   "outputs": [
    {
     "name": "stdout",
     "output_type": "stream",
     "text": [
      "[(4, 'Mike', 22)]\n"
     ]
    }
   ],
   "source": [
    "c.execute(\"SELECT * FROM student where name LIKE '_i__'\")\n",
    "output = c.fetchall()\n",
    "print(output)"
   ]
  },
  {
   "cell_type": "code",
   "execution_count": 19,
   "id": "9b522489",
   "metadata": {},
   "outputs": [
    {
     "name": "stdout",
     "output_type": "stream",
     "text": [
      "    id     name  age\n",
      "0    1    Alice   20\n",
      "1    2      Bob   20\n",
      "2    3      Tej   20\n",
      "3    4     Mike   22\n",
      "4    6  Nishant   28\n",
      "5    7      Ved   24\n",
      "6    8    Rohan   29\n",
      "7   10    Ayush   25\n",
      "8   11      Ved   24\n",
      "9   12    Rohan   29\n",
      "10  13  Nishant   28\n",
      "11  14    tejas   18\n"
     ]
    }
   ],
   "source": [
    "import pandas as pd\n",
    "c.execute(\"SELECT * FROM student\")\n",
    "output = c.fetchall()\n",
    "df = pd.DataFrame(output, columns=['id', 'name', 'age'])\n",
    "print(df)"
   ]
  },
  {
   "cell_type": "code",
   "execution_count": 18,
   "id": "6a20b2d1",
   "metadata": {},
   "outputs": [
    {
     "name": "stdout",
     "output_type": "stream",
     "text": [
      "[(1, 'Alice', 20), (2, 'Bob', 20), (3, 'Tej', 20), (4, 'Mike', 22), (6, 'Nishant', 28), (7, 'Ved', 24), (8, 'Rohan', 29), (10, 'Ayush', 25), (11, 'Ved', 24), (12, 'Rohan', 29), (13, 'Nishant', 28), (14, 'tejas', 18)]\n"
     ]
    }
   ],
   "source": [
    "#c.execute(\"delete from student where name='tejas' \")\n",
    "#new.commit()\n",
    "c.execute(\"SELECT * FROM student\")\n",
    "output = c.fetchall()\n",
    "print(output)\n"
   ]
  },
  {
   "cell_type": "code",
   "execution_count": 25,
   "id": "09f9d0bd",
   "metadata": {},
   "outputs": [
    {
     "name": "stdout",
     "output_type": "stream",
     "text": [
      "    id     name  age\n",
      "0    1    Alice   20\n",
      "1    2      Bob   20\n",
      "2    3      Tej   20\n",
      "3    4     Mike   22\n",
      "4    6  Nishant   28\n",
      "5    7      Ved   24\n",
      "6    8    Rohan   29\n",
      "7   10    Ayush   25\n",
      "8   11      Ved   24\n",
      "9   12    Rohan   29\n",
      "10  13  Nishant   28\n",
      "11  14    tejas   18\n"
     ]
    }
   ],
   "source": [
    "c.execute(\"SELECT * FROM student\")\n",
    "output = c.fetchall()\n",
    "df = pd.DataFrame(output, columns=['id', 'name', 'age'])\n",
    "print(df)"
   ]
  },
  {
   "cell_type": "code",
   "execution_count": null,
   "id": "18e9d530",
   "metadata": {},
   "outputs": [],
   "source": [
    "stu_dict = [\n",
    "    {\"name\": \"Ved\", \"age\": 24,},\n",
    "    {\"name\": \"Rohan\", \"age\": 29},\n",
    "    {\"name\": \"Nishant\", \"age\": 28},\n",
    "    ]\n",
    "query = \"\"\"INSERT INTO student (name, age)\n",
    "VALUES (:name, :age);\"\"\"\n",
    "c.executemany(query, stu_dict)\n",
    "new.commit()"
   ]
  },
  {
   "cell_type": "code",
   "execution_count": 26,
   "id": "6bdd54e1",
   "metadata": {},
   "outputs": [
    {
     "data": {
      "text/html": [
       "<div>\n",
       "<style scoped>\n",
       "    .dataframe tbody tr th:only-of-type {\n",
       "        vertical-align: middle;\n",
       "    }\n",
       "\n",
       "    .dataframe tbody tr th {\n",
       "        vertical-align: top;\n",
       "    }\n",
       "\n",
       "    .dataframe thead th {\n",
       "        text-align: right;\n",
       "    }\n",
       "</style>\n",
       "<table border=\"1\" class=\"dataframe\">\n",
       "  <thead>\n",
       "    <tr style=\"text-align: right;\">\n",
       "      <th></th>\n",
       "      <th>id</th>\n",
       "      <th>name</th>\n",
       "      <th>age</th>\n",
       "    </tr>\n",
       "  </thead>\n",
       "  <tbody>\n",
       "    <tr>\n",
       "      <th>0</th>\n",
       "      <td>1</td>\n",
       "      <td>Alice</td>\n",
       "      <td>20</td>\n",
       "    </tr>\n",
       "    <tr>\n",
       "      <th>1</th>\n",
       "      <td>2</td>\n",
       "      <td>Bob</td>\n",
       "      <td>20</td>\n",
       "    </tr>\n",
       "    <tr>\n",
       "      <th>2</th>\n",
       "      <td>3</td>\n",
       "      <td>Tej</td>\n",
       "      <td>20</td>\n",
       "    </tr>\n",
       "    <tr>\n",
       "      <th>3</th>\n",
       "      <td>4</td>\n",
       "      <td>Mike</td>\n",
       "      <td>22</td>\n",
       "    </tr>\n",
       "    <tr>\n",
       "      <th>4</th>\n",
       "      <td>6</td>\n",
       "      <td>Nishant</td>\n",
       "      <td>28</td>\n",
       "    </tr>\n",
       "    <tr>\n",
       "      <th>5</th>\n",
       "      <td>7</td>\n",
       "      <td>Ved</td>\n",
       "      <td>24</td>\n",
       "    </tr>\n",
       "    <tr>\n",
       "      <th>6</th>\n",
       "      <td>8</td>\n",
       "      <td>Rohan</td>\n",
       "      <td>29</td>\n",
       "    </tr>\n",
       "    <tr>\n",
       "      <th>7</th>\n",
       "      <td>10</td>\n",
       "      <td>Ayush</td>\n",
       "      <td>25</td>\n",
       "    </tr>\n",
       "    <tr>\n",
       "      <th>8</th>\n",
       "      <td>11</td>\n",
       "      <td>Ved</td>\n",
       "      <td>24</td>\n",
       "    </tr>\n",
       "    <tr>\n",
       "      <th>9</th>\n",
       "      <td>12</td>\n",
       "      <td>Rohan</td>\n",
       "      <td>29</td>\n",
       "    </tr>\n",
       "    <tr>\n",
       "      <th>10</th>\n",
       "      <td>13</td>\n",
       "      <td>Nishant</td>\n",
       "      <td>28</td>\n",
       "    </tr>\n",
       "    <tr>\n",
       "      <th>11</th>\n",
       "      <td>14</td>\n",
       "      <td>tejas</td>\n",
       "      <td>18</td>\n",
       "    </tr>\n",
       "  </tbody>\n",
       "</table>\n",
       "</div>"
      ],
      "text/plain": [
       "    id     name  age\n",
       "0    1    Alice   20\n",
       "1    2      Bob   20\n",
       "2    3      Tej   20\n",
       "3    4     Mike   22\n",
       "4    6  Nishant   28\n",
       "5    7      Ved   24\n",
       "6    8    Rohan   29\n",
       "7   10    Ayush   25\n",
       "8   11      Ved   24\n",
       "9   12    Rohan   29\n",
       "10  13  Nishant   28\n",
       "11  14    tejas   18"
      ]
     },
     "execution_count": 26,
     "metadata": {},
     "output_type": "execute_result"
    }
   ],
   "source": [
    "c.execute(\"SELECT * FROM student\")\n",
    "output = c.fetchall()\n",
    "df = pd.DataFrame(output, columns=['id', 'name', 'age'])\n",
    "df"
   ]
  },
  {
   "cell_type": "code",
   "execution_count": null,
   "id": "bc41f34f",
   "metadata": {},
   "outputs": [],
   "source": [
    "stu_dict =[\n",
    "    {\"name\" : \"Manish\", \"age\": 19},\n",
    "    {\"name\" : \"Rohit\", \"age\": 22},\n",
    "    {\"name\" : \"Suresh\", \"age\": 21}\n",
    "]\n",
    "query = \"\"\"INSERT INTO students (name, age)\n",
    "VALUES (:name, :age);\"\"\"\n",
    "c.executemany(query, stu_dict)\n",
    "new.commit()\n",
    "\n"
   ]
  },
  {
   "cell_type": "code",
   "execution_count": 28,
   "id": "39b6bd52",
   "metadata": {},
   "outputs": [
    {
     "data": {
      "text/html": [
       "<div>\n",
       "<style scoped>\n",
       "    .dataframe tbody tr th:only-of-type {\n",
       "        vertical-align: middle;\n",
       "    }\n",
       "\n",
       "    .dataframe tbody tr th {\n",
       "        vertical-align: top;\n",
       "    }\n",
       "\n",
       "    .dataframe thead th {\n",
       "        text-align: right;\n",
       "    }\n",
       "</style>\n",
       "<table border=\"1\" class=\"dataframe\">\n",
       "  <thead>\n",
       "    <tr style=\"text-align: right;\">\n",
       "      <th></th>\n",
       "      <th>id</th>\n",
       "      <th>name</th>\n",
       "      <th>age</th>\n",
       "    </tr>\n",
       "  </thead>\n",
       "  <tbody>\n",
       "    <tr>\n",
       "      <th>0</th>\n",
       "      <td>1</td>\n",
       "      <td>Alice</td>\n",
       "      <td>20</td>\n",
       "    </tr>\n",
       "    <tr>\n",
       "      <th>1</th>\n",
       "      <td>2</td>\n",
       "      <td>Bob</td>\n",
       "      <td>20</td>\n",
       "    </tr>\n",
       "    <tr>\n",
       "      <th>2</th>\n",
       "      <td>3</td>\n",
       "      <td>Tej</td>\n",
       "      <td>20</td>\n",
       "    </tr>\n",
       "    <tr>\n",
       "      <th>3</th>\n",
       "      <td>4</td>\n",
       "      <td>Mike</td>\n",
       "      <td>22</td>\n",
       "    </tr>\n",
       "    <tr>\n",
       "      <th>4</th>\n",
       "      <td>6</td>\n",
       "      <td>Nishant</td>\n",
       "      <td>28</td>\n",
       "    </tr>\n",
       "    <tr>\n",
       "      <th>5</th>\n",
       "      <td>7</td>\n",
       "      <td>Ved</td>\n",
       "      <td>24</td>\n",
       "    </tr>\n",
       "    <tr>\n",
       "      <th>6</th>\n",
       "      <td>8</td>\n",
       "      <td>Rohan</td>\n",
       "      <td>29</td>\n",
       "    </tr>\n",
       "    <tr>\n",
       "      <th>7</th>\n",
       "      <td>10</td>\n",
       "      <td>Ayush</td>\n",
       "      <td>25</td>\n",
       "    </tr>\n",
       "    <tr>\n",
       "      <th>8</th>\n",
       "      <td>11</td>\n",
       "      <td>Ved</td>\n",
       "      <td>24</td>\n",
       "    </tr>\n",
       "    <tr>\n",
       "      <th>9</th>\n",
       "      <td>12</td>\n",
       "      <td>Rohan</td>\n",
       "      <td>29</td>\n",
       "    </tr>\n",
       "    <tr>\n",
       "      <th>10</th>\n",
       "      <td>13</td>\n",
       "      <td>Nishant</td>\n",
       "      <td>28</td>\n",
       "    </tr>\n",
       "    <tr>\n",
       "      <th>11</th>\n",
       "      <td>14</td>\n",
       "      <td>tejas</td>\n",
       "      <td>18</td>\n",
       "    </tr>\n",
       "  </tbody>\n",
       "</table>\n",
       "</div>"
      ],
      "text/plain": [
       "    id     name  age\n",
       "0    1    Alice   20\n",
       "1    2      Bob   20\n",
       "2    3      Tej   20\n",
       "3    4     Mike   22\n",
       "4    6  Nishant   28\n",
       "5    7      Ved   24\n",
       "6    8    Rohan   29\n",
       "7   10    Ayush   25\n",
       "8   11      Ved   24\n",
       "9   12    Rohan   29\n",
       "10  13  Nishant   28\n",
       "11  14    tejas   18"
      ]
     },
     "execution_count": 28,
     "metadata": {},
     "output_type": "execute_result"
    }
   ],
   "source": [
    "c.execute(\"SELECT * FROM student\")\n",
    "output = c.fetchall()\n",
    "df = pd.DataFrame(output, columns=['id', 'name', 'age'])\n",
    "df"
   ]
  },
  {
   "cell_type": "code",
   "execution_count": null,
   "id": "2dac3290",
   "metadata": {},
   "outputs": [],
   "source": [
    "c.execute(\"DELETE FROM students WHERE name IN ('Roshan', 'Rohit', 'Suresh', 'Manish')\")\n",
    "\n",
    "new.commit()\n",
    "c.execute(\"SELECT * FROM students\")\n",
    "output = c.fetchall()"
   ]
  },
  {
   "cell_type": "code",
   "execution_count": null,
   "id": "a03e4557",
   "metadata": {},
   "outputs": [
    {
     "data": {
      "text/html": [
       "<div>\n",
       "<style scoped>\n",
       "    .dataframe tbody tr th:only-of-type {\n",
       "        vertical-align: middle;\n",
       "    }\n",
       "\n",
       "    .dataframe tbody tr th {\n",
       "        vertical-align: top;\n",
       "    }\n",
       "\n",
       "    .dataframe thead th {\n",
       "        text-align: right;\n",
       "    }\n",
       "</style>\n",
       "<table border=\"1\" class=\"dataframe\">\n",
       "  <thead>\n",
       "    <tr style=\"text-align: right;\">\n",
       "      <th></th>\n",
       "      <th>id</th>\n",
       "      <th>name</th>\n",
       "      <th>age</th>\n",
       "    </tr>\n",
       "  </thead>\n",
       "  <tbody>\n",
       "    <tr>\n",
       "      <th>0</th>\n",
       "      <td>1</td>\n",
       "      <td>Alice</td>\n",
       "      <td>20</td>\n",
       "    </tr>\n",
       "    <tr>\n",
       "      <th>1</th>\n",
       "      <td>2</td>\n",
       "      <td>Bob</td>\n",
       "      <td>20</td>\n",
       "    </tr>\n",
       "    <tr>\n",
       "      <th>2</th>\n",
       "      <td>3</td>\n",
       "      <td>Tej</td>\n",
       "      <td>20</td>\n",
       "    </tr>\n",
       "    <tr>\n",
       "      <th>3</th>\n",
       "      <td>4</td>\n",
       "      <td>Mike</td>\n",
       "      <td>22</td>\n",
       "    </tr>\n",
       "    <tr>\n",
       "      <th>4</th>\n",
       "      <td>6</td>\n",
       "      <td>Nishant</td>\n",
       "      <td>28</td>\n",
       "    </tr>\n",
       "    <tr>\n",
       "      <th>5</th>\n",
       "      <td>7</td>\n",
       "      <td>Ved</td>\n",
       "      <td>24</td>\n",
       "    </tr>\n",
       "    <tr>\n",
       "      <th>6</th>\n",
       "      <td>8</td>\n",
       "      <td>Rohan</td>\n",
       "      <td>29</td>\n",
       "    </tr>\n",
       "    <tr>\n",
       "      <th>7</th>\n",
       "      <td>10</td>\n",
       "      <td>Ayush</td>\n",
       "      <td>25</td>\n",
       "    </tr>\n",
       "    <tr>\n",
       "      <th>8</th>\n",
       "      <td>11</td>\n",
       "      <td>Ved</td>\n",
       "      <td>24</td>\n",
       "    </tr>\n",
       "    <tr>\n",
       "      <th>9</th>\n",
       "      <td>12</td>\n",
       "      <td>Rohan</td>\n",
       "      <td>29</td>\n",
       "    </tr>\n",
       "    <tr>\n",
       "      <th>10</th>\n",
       "      <td>13</td>\n",
       "      <td>Nishant</td>\n",
       "      <td>28</td>\n",
       "    </tr>\n",
       "  </tbody>\n",
       "</table>\n",
       "</div>"
      ],
      "text/plain": [
       "    id     name  age\n",
       "0    1    Alice   20\n",
       "1    2      Bob   20\n",
       "2    3      Tej   20\n",
       "3    4     Mike   22\n",
       "4    6  Nishant   28\n",
       "5    7      Ved   24\n",
       "6    8    Rohan   29\n",
       "7   10    Ayush   25\n",
       "8   11      Ved   24\n",
       "9   12    Rohan   29\n",
       "10  13  Nishant   28"
      ]
     },
     "execution_count": 20,
     "metadata": {},
     "output_type": "execute_result"
    }
   ],
   "source": [
    "c.execute(\"SELECT * FROM students\")\n",
    "output = c.fetchall()\n",
    "df = pd.DataFrame(output, columns=['id', 'name', 'age'])\n",
    "df"
   ]
  },
  {
   "cell_type": "code",
   "execution_count": 30,
   "id": "da4f8fb8",
   "metadata": {},
   "outputs": [
    {
     "name": "stdout",
     "output_type": "stream",
     "text": [
      "[(1, 'Alice', 20), (2, 'Bob', 20), (3, 'Tej', 20), (4, 'Mike', 22), (6, 'Nishant', 28), (7, 'Ved', 24), (8, 'Rohan', 29), (10, 'Ayush', 25), (11, 'Ved', 24), (12, 'Rohan', 29), (13, 'Nishant', 28), (14, 'tejas', 18)]\n"
     ]
    }
   ],
   "source": [
    "# c.execute(\"UPDATE students SET id = 6 WHERE id = 7\")\n",
    "# c.execute(\"UPDATE students SET id = 7 WHERE id = 11\")\n",
    "# c.execute(\"UPDATE students SET id = 8 WHERE id = 12\")\n",
    "# c.execute(\"UPDATE students SET id = 9 WHERE id = 13\")\n",
    "\n",
    "new.commit()\n",
    "c.execute(\"SELECT * FROM student\")\n",
    "output = c.fetchall()\n",
    "print(output)"
   ]
  },
  {
   "cell_type": "code",
   "execution_count": 31,
   "id": "0f28d420",
   "metadata": {},
   "outputs": [
    {
     "name": "stdout",
     "output_type": "stream",
     "text": [
      "[(1, 'Alice', 20), (2, 'Bob', 20), (3, 'Tej', 20), (4, 'Mike', 22), (6, 'Nishant', 28), (7, 'Ved', 24), (8, 'Rohan', 29), (10, 'Ayush', 25), (11, 'Ved', 24), (12, 'Rohan', 29), (13, 'Nishant', 28), (14, 'tejas', 18)]\n"
     ]
    }
   ],
   "source": [
    "# c.execute(\"insert into students (id,name,age) values (3,'Tej',20)\")\n",
    "# new.commit()\n",
    "c.execute(\"SELECT * FROM student\")\n",
    "output = c.fetchall()\n",
    "print(output)"
   ]
  },
  {
   "cell_type": "code",
   "execution_count": null,
   "id": "c9570399",
   "metadata": {},
   "outputs": [
    {
     "name": "stdout",
     "output_type": "stream",
     "text": [
      "[(1, 'Alice', 20), (2, 'Bob', 20), (3, 'Tej', 20), (4, 'Mike', 22), (5, 'Rohit', 24), (6, 'Nishant', 28), (7, 'Ved', 24), (8, 'Rohan', 29), (9, 'Manish', 28), (10, 'Ayush', 25)]\n"
     ]
    }
   ],
   "source": [
    "c.execute(\"insert into students (name, age) values ('Ayush', 25)\")\n",
    "new.commit()\n",
    "c.execute(\"SELECT * FROM students\")\n",
    "output = c.fetchall()\n",
    "print(output)"
   ]
  },
  {
   "cell_type": "code",
   "execution_count": 32,
   "id": "bd57a7ab",
   "metadata": {},
   "outputs": [
    {
     "data": {
      "text/html": [
       "<div>\n",
       "<style scoped>\n",
       "    .dataframe tbody tr th:only-of-type {\n",
       "        vertical-align: middle;\n",
       "    }\n",
       "\n",
       "    .dataframe tbody tr th {\n",
       "        vertical-align: top;\n",
       "    }\n",
       "\n",
       "    .dataframe thead th {\n",
       "        text-align: right;\n",
       "    }\n",
       "</style>\n",
       "<table border=\"1\" class=\"dataframe\">\n",
       "  <thead>\n",
       "    <tr style=\"text-align: right;\">\n",
       "      <th></th>\n",
       "      <th>id</th>\n",
       "      <th>name</th>\n",
       "      <th>age</th>\n",
       "    </tr>\n",
       "  </thead>\n",
       "  <tbody>\n",
       "    <tr>\n",
       "      <th>0</th>\n",
       "      <td>1</td>\n",
       "      <td>Alice</td>\n",
       "      <td>20</td>\n",
       "    </tr>\n",
       "    <tr>\n",
       "      <th>1</th>\n",
       "      <td>2</td>\n",
       "      <td>Bob</td>\n",
       "      <td>20</td>\n",
       "    </tr>\n",
       "    <tr>\n",
       "      <th>2</th>\n",
       "      <td>3</td>\n",
       "      <td>Tej</td>\n",
       "      <td>20</td>\n",
       "    </tr>\n",
       "    <tr>\n",
       "      <th>3</th>\n",
       "      <td>4</td>\n",
       "      <td>Mike</td>\n",
       "      <td>22</td>\n",
       "    </tr>\n",
       "    <tr>\n",
       "      <th>4</th>\n",
       "      <td>6</td>\n",
       "      <td>Nishant</td>\n",
       "      <td>28</td>\n",
       "    </tr>\n",
       "    <tr>\n",
       "      <th>5</th>\n",
       "      <td>7</td>\n",
       "      <td>Ved</td>\n",
       "      <td>24</td>\n",
       "    </tr>\n",
       "    <tr>\n",
       "      <th>6</th>\n",
       "      <td>8</td>\n",
       "      <td>Rohan</td>\n",
       "      <td>29</td>\n",
       "    </tr>\n",
       "    <tr>\n",
       "      <th>7</th>\n",
       "      <td>10</td>\n",
       "      <td>Ayush</td>\n",
       "      <td>25</td>\n",
       "    </tr>\n",
       "    <tr>\n",
       "      <th>8</th>\n",
       "      <td>11</td>\n",
       "      <td>Ved</td>\n",
       "      <td>24</td>\n",
       "    </tr>\n",
       "    <tr>\n",
       "      <th>9</th>\n",
       "      <td>12</td>\n",
       "      <td>Rohan</td>\n",
       "      <td>29</td>\n",
       "    </tr>\n",
       "    <tr>\n",
       "      <th>10</th>\n",
       "      <td>13</td>\n",
       "      <td>Nishant</td>\n",
       "      <td>28</td>\n",
       "    </tr>\n",
       "    <tr>\n",
       "      <th>11</th>\n",
       "      <td>14</td>\n",
       "      <td>tejas</td>\n",
       "      <td>18</td>\n",
       "    </tr>\n",
       "  </tbody>\n",
       "</table>\n",
       "</div>"
      ],
      "text/plain": [
       "    id     name  age\n",
       "0    1    Alice   20\n",
       "1    2      Bob   20\n",
       "2    3      Tej   20\n",
       "3    4     Mike   22\n",
       "4    6  Nishant   28\n",
       "5    7      Ved   24\n",
       "6    8    Rohan   29\n",
       "7   10    Ayush   25\n",
       "8   11      Ved   24\n",
       "9   12    Rohan   29\n",
       "10  13  Nishant   28\n",
       "11  14    tejas   18"
      ]
     },
     "execution_count": 32,
     "metadata": {},
     "output_type": "execute_result"
    }
   ],
   "source": [
    "c.execute(\"SELECT * FROM student\")\n",
    "output = c.fetchall()\n",
    "df = pd.DataFrame(output, columns=['id', 'name', 'age'])\n",
    "df"
   ]
  },
  {
   "cell_type": "code",
   "execution_count": 34,
   "id": "3a25a852",
   "metadata": {},
   "outputs": [
    {
     "name": "stdout",
     "output_type": "stream",
     "text": [
      "[(1, 'Alice', 20), (2, 'Bob', 20), (3, 'Tej', 20), (4, 'Mike', 22), (6, 'Nishant', 28), (7, 'Ved', 24), (8, 'Rohan', 29), (10, 'Ayush', 25), (14, 'tejas', 18)]\n"
     ]
    }
   ],
   "source": [
    "c.execute(\"delete from student where id in (11,12,13)\")\n",
    "new.commit()\n",
    "c.execute(\"SELECT * FROM student\")\n",
    "output = c.fetchall()\n",
    "print(output)"
   ]
  },
  {
   "cell_type": "code",
   "execution_count": 35,
   "id": "f44a1e88",
   "metadata": {},
   "outputs": [
    {
     "data": {
      "text/html": [
       "<div>\n",
       "<style scoped>\n",
       "    .dataframe tbody tr th:only-of-type {\n",
       "        vertical-align: middle;\n",
       "    }\n",
       "\n",
       "    .dataframe tbody tr th {\n",
       "        vertical-align: top;\n",
       "    }\n",
       "\n",
       "    .dataframe thead th {\n",
       "        text-align: right;\n",
       "    }\n",
       "</style>\n",
       "<table border=\"1\" class=\"dataframe\">\n",
       "  <thead>\n",
       "    <tr style=\"text-align: right;\">\n",
       "      <th></th>\n",
       "      <th>id</th>\n",
       "      <th>name</th>\n",
       "      <th>age</th>\n",
       "    </tr>\n",
       "  </thead>\n",
       "  <tbody>\n",
       "    <tr>\n",
       "      <th>0</th>\n",
       "      <td>1</td>\n",
       "      <td>Alice</td>\n",
       "      <td>20</td>\n",
       "    </tr>\n",
       "    <tr>\n",
       "      <th>1</th>\n",
       "      <td>2</td>\n",
       "      <td>Bob</td>\n",
       "      <td>20</td>\n",
       "    </tr>\n",
       "    <tr>\n",
       "      <th>2</th>\n",
       "      <td>3</td>\n",
       "      <td>Tej</td>\n",
       "      <td>20</td>\n",
       "    </tr>\n",
       "    <tr>\n",
       "      <th>3</th>\n",
       "      <td>4</td>\n",
       "      <td>Mike</td>\n",
       "      <td>22</td>\n",
       "    </tr>\n",
       "    <tr>\n",
       "      <th>4</th>\n",
       "      <td>6</td>\n",
       "      <td>Nishant</td>\n",
       "      <td>28</td>\n",
       "    </tr>\n",
       "    <tr>\n",
       "      <th>5</th>\n",
       "      <td>7</td>\n",
       "      <td>Ved</td>\n",
       "      <td>24</td>\n",
       "    </tr>\n",
       "    <tr>\n",
       "      <th>6</th>\n",
       "      <td>8</td>\n",
       "      <td>Rohan</td>\n",
       "      <td>29</td>\n",
       "    </tr>\n",
       "    <tr>\n",
       "      <th>7</th>\n",
       "      <td>10</td>\n",
       "      <td>Ayush</td>\n",
       "      <td>25</td>\n",
       "    </tr>\n",
       "    <tr>\n",
       "      <th>8</th>\n",
       "      <td>14</td>\n",
       "      <td>tejas</td>\n",
       "      <td>18</td>\n",
       "    </tr>\n",
       "  </tbody>\n",
       "</table>\n",
       "</div>"
      ],
      "text/plain": [
       "   id     name  age\n",
       "0   1    Alice   20\n",
       "1   2      Bob   20\n",
       "2   3      Tej   20\n",
       "3   4     Mike   22\n",
       "4   6  Nishant   28\n",
       "5   7      Ved   24\n",
       "6   8    Rohan   29\n",
       "7  10    Ayush   25\n",
       "8  14    tejas   18"
      ]
     },
     "execution_count": 35,
     "metadata": {},
     "output_type": "execute_result"
    }
   ],
   "source": [
    "c.execute(\"SELECT * FROM student\")\n",
    "output = c.fetchall()\n",
    "df = pd.DataFrame(output, columns=['id', 'name', 'age'])\n",
    "df"
   ]
  },
  {
   "cell_type": "code",
   "execution_count": 36,
   "id": "39d4b5da",
   "metadata": {},
   "outputs": [],
   "source": [
    "new = sqlite3.connect(\"students_clg.db\")   \n",
    "c = new.cursor() "
   ]
  },
  {
   "cell_type": "code",
   "execution_count": 37,
   "id": "eaf2fd30",
   "metadata": {},
   "outputs": [
    {
     "name": "stdout",
     "output_type": "stream",
     "text": [
      "[(1, 'MIT'), (2, 'Stanford'), (3, 'Harvard'), (4, 'Yale'), (5, 'Princeton'), (6, 'Columbia'), (7, 'Caltech'), (8, 'UCLA'), (9, 'Berkeley'), (10, 'Cornell'), (11, 'University of Chicago'), (12, 'Johns Hopkins University'), (13, 'Duke University'), (14, 'Northwestern University'), (15, 'University of Michigan')]\n"
     ]
    }
   ],
   "source": [
    "c.execute(\"select * from students_data\")\n",
    "output =c.fetchall()\n",
    "print(output)\n"
   ]
  },
  {
   "cell_type": "code",
   "execution_count": 38,
   "id": "3b213109",
   "metadata": {},
   "outputs": [
    {
     "data": {
      "text/html": [
       "<div>\n",
       "<style scoped>\n",
       "    .dataframe tbody tr th:only-of-type {\n",
       "        vertical-align: middle;\n",
       "    }\n",
       "\n",
       "    .dataframe tbody tr th {\n",
       "        vertical-align: top;\n",
       "    }\n",
       "\n",
       "    .dataframe thead th {\n",
       "        text-align: right;\n",
       "    }\n",
       "</style>\n",
       "<table border=\"1\" class=\"dataframe\">\n",
       "  <thead>\n",
       "    <tr style=\"text-align: right;\">\n",
       "      <th></th>\n",
       "      <th>id</th>\n",
       "      <th>college_name</th>\n",
       "    </tr>\n",
       "  </thead>\n",
       "  <tbody>\n",
       "    <tr>\n",
       "      <th>0</th>\n",
       "      <td>1</td>\n",
       "      <td>MIT</td>\n",
       "    </tr>\n",
       "    <tr>\n",
       "      <th>1</th>\n",
       "      <td>2</td>\n",
       "      <td>Stanford</td>\n",
       "    </tr>\n",
       "    <tr>\n",
       "      <th>2</th>\n",
       "      <td>3</td>\n",
       "      <td>Harvard</td>\n",
       "    </tr>\n",
       "    <tr>\n",
       "      <th>3</th>\n",
       "      <td>4</td>\n",
       "      <td>Yale</td>\n",
       "    </tr>\n",
       "    <tr>\n",
       "      <th>4</th>\n",
       "      <td>5</td>\n",
       "      <td>Princeton</td>\n",
       "    </tr>\n",
       "    <tr>\n",
       "      <th>5</th>\n",
       "      <td>6</td>\n",
       "      <td>Columbia</td>\n",
       "    </tr>\n",
       "    <tr>\n",
       "      <th>6</th>\n",
       "      <td>7</td>\n",
       "      <td>Caltech</td>\n",
       "    </tr>\n",
       "    <tr>\n",
       "      <th>7</th>\n",
       "      <td>8</td>\n",
       "      <td>UCLA</td>\n",
       "    </tr>\n",
       "    <tr>\n",
       "      <th>8</th>\n",
       "      <td>9</td>\n",
       "      <td>Berkeley</td>\n",
       "    </tr>\n",
       "    <tr>\n",
       "      <th>9</th>\n",
       "      <td>10</td>\n",
       "      <td>Cornell</td>\n",
       "    </tr>\n",
       "    <tr>\n",
       "      <th>10</th>\n",
       "      <td>11</td>\n",
       "      <td>University of Chicago</td>\n",
       "    </tr>\n",
       "    <tr>\n",
       "      <th>11</th>\n",
       "      <td>12</td>\n",
       "      <td>Johns Hopkins University</td>\n",
       "    </tr>\n",
       "    <tr>\n",
       "      <th>12</th>\n",
       "      <td>13</td>\n",
       "      <td>Duke University</td>\n",
       "    </tr>\n",
       "    <tr>\n",
       "      <th>13</th>\n",
       "      <td>14</td>\n",
       "      <td>Northwestern University</td>\n",
       "    </tr>\n",
       "    <tr>\n",
       "      <th>14</th>\n",
       "      <td>15</td>\n",
       "      <td>University of Michigan</td>\n",
       "    </tr>\n",
       "  </tbody>\n",
       "</table>\n",
       "</div>"
      ],
      "text/plain": [
       "    id              college_name\n",
       "0    1                       MIT\n",
       "1    2                  Stanford\n",
       "2    3                   Harvard\n",
       "3    4                      Yale\n",
       "4    5                 Princeton\n",
       "5    6                  Columbia\n",
       "6    7                   Caltech\n",
       "7    8                      UCLA\n",
       "8    9                  Berkeley\n",
       "9   10                   Cornell\n",
       "10  11     University of Chicago\n",
       "11  12  Johns Hopkins University\n",
       "12  13           Duke University\n",
       "13  14   Northwestern University\n",
       "14  15    University of Michigan"
      ]
     },
     "execution_count": 38,
     "metadata": {},
     "output_type": "execute_result"
    }
   ],
   "source": [
    "c.execute(\"SELECT * FROM students_data\")\n",
    "output = c.fetchall()\n",
    "df = pd.DataFrame(output, columns=['id','college_name'])\n",
    "df"
   ]
  },
  {
   "cell_type": "code",
   "execution_count": 39,
   "id": "8811e924",
   "metadata": {},
   "outputs": [
    {
     "name": "stdout",
     "output_type": "stream",
     "text": [
      "[('students_data',)]\n"
     ]
    }
   ],
   "source": [
    "c.execute(\"SELECT name FROM sqlite_master WHERE type='table'\")\n",
    "print(c.fetchall())\n",
    "\n"
   ]
  },
  {
   "cell_type": "code",
   "execution_count": 40,
   "id": "c48c2d47",
   "metadata": {},
   "outputs": [],
   "source": [
    "new= sqlite3.connect('students.db')  \n",
    "c=new.cursor()"
   ]
  },
  {
   "cell_type": "code",
   "execution_count": null,
   "id": "d07721fc",
   "metadata": {},
   "outputs": [
    {
     "name": "stdout",
     "output_type": "stream",
     "text": [
      "[('student',)]\n"
     ]
    }
   ],
   "source": [
    "c.execute(\"SELECT name FROM sqlite_master WHERE type='table'\")\n",
    "print(c.fetchall())\n"
   ]
  }
 ],
 "metadata": {
  "kernelspec": {
   "display_name": "Python 3",
   "language": "python",
   "name": "python3"
  },
  "language_info": {
   "codemirror_mode": {
    "name": "ipython",
    "version": 3
   },
   "file_extension": ".py",
   "mimetype": "text/x-python",
   "name": "python",
   "nbconvert_exporter": "python",
   "pygments_lexer": "ipython3",
   "version": "3.13.4"
  }
 },
 "nbformat": 4,
 "nbformat_minor": 5
}
