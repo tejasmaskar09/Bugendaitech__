{
 "cells": [
  {
   "cell_type": "code",
   "execution_count": 1,
   "id": "5e36c3d7",
   "metadata": {},
   "outputs": [],
   "source": [
    "def marks(nm=(str(input(\"Enter name : \"))),\n",
    "          m1=(float(input(\"Enter marks 1 : \"))),\n",
    "          m2=(float(input(\"Enter marks 2 : \"))),\n",
    "          m3=(float(input(\"Enter marks 3 : \")))):\n",
    "    \n",
    "    print(\"Student Name : \", nm)\n",
    "    print(\"Marks 1 : \", m1)\n",
    "    print(\"Marks 2 : \", m2)\n",
    "    print(\"Marks 3 : \", m3)\n",
    "    def avg(m1, m2, m3):\n",
    "        avg = (m1 + m2 + m3) / 3\n",
    "        print(\"Average Marks:\", avg)\n",
    "    \n",
    "    avg(m1, m2, m3)\n"
   ]
  },
  {
   "cell_type": "code",
   "execution_count": 2,
   "id": "6889472b",
   "metadata": {},
   "outputs": [
    {
     "name": "stdout",
     "output_type": "stream",
     "text": [
      "Student Name :  Tej\n",
      "Marks 1 :  20.0\n",
      "Marks 2 :  30.0\n",
      "Marks 3 :  40.0\n",
      "Average Marks: 30.0\n"
     ]
    }
   ],
   "source": [
    "marks()"
   ]
  }
 ],
 "metadata": {
  "kernelspec": {
   "display_name": "Python 3",
   "language": "python",
   "name": "python3"
  },
  "language_info": {
   "codemirror_mode": {
    "name": "ipython",
    "version": 3
   },
   "file_extension": ".py",
   "mimetype": "text/x-python",
   "name": "python",
   "nbconvert_exporter": "python",
   "pygments_lexer": "ipython3",
   "version": "3.13.4"
  }
 },
 "nbformat": 4,
 "nbformat_minor": 5
}
