{
 "cells": [
  {
   "cell_type": "code",
   "execution_count": 1,
   "id": "d50c06ba",
   "metadata": {},
   "outputs": [],
   "source": [
    "import re"
   ]
  },
  {
   "cell_type": "code",
   "execution_count": 2,
   "id": "d01a1b0e",
   "metadata": {},
   "outputs": [],
   "source": [
    "resume_text= \"\"\"\n",
    "Mark Johnson\n",
    "Mail:markohnson@gmail.com\n",
    "linkedin:linkedin.com/in/markjohnson\n",
    "Phone:123-456-7890\n",
    "GitHub:github.com/markjohnson\n",
    "Location: San Francisco\n",
    "\n",
    "Summary:\n",
    "Software engineer with 5+ years of experience in web development.\n",
    "Skilled in Python, JavaScript, React. Strong problem-solving abilities.\n",
    "\n",
    "Education:\n",
    "B.Sc. Computer Science, XYZ University, 2018\n",
    "\n",
    "Experience:\n",
    "Software Engineer at ABC Tech Solutions (2018 - Present)\n",
    "- Built web apps using Python and React.\n",
    "\n",
    "Skills:\n",
    "Programming Languages: Python, JavaScript, Java\n",
    "Frameworks: React, Django\n",
    "Tools: Git, Docker, Jenkins\n",
    "\"\"\""
   ]
  },
  {
   "cell_type": "code",
   "execution_count": 3,
   "id": "45b70d5d",
   "metadata": {},
   "outputs": [
    {
     "name": "stdout",
     "output_type": "stream",
     "text": [
      "Name: Mark Johnson\n"
     ]
    }
   ],
   "source": [
    "\n",
    "name_pattern = r\"^([A-Z][a-z]+(?:\\s[A-Z][a-z]+)+)$\"\n",
    "\n",
    "matches = re.search(name_pattern, resume_text, re.MULTILINE)\n",
    "if matches:\n",
    "    name = matches.group()\n",
    "    print(f\"Name: {name}\")\n",
    "\n"
   ]
  },
  {
   "cell_type": "code",
   "execution_count": 4,
   "id": "7aeeeff0",
   "metadata": {},
   "outputs": [
    {
     "name": "stdout",
     "output_type": "stream",
     "text": [
      "Email: markohnson@gmail.com\n"
     ]
    }
   ],
   "source": [
    "email_pattern = r\"([a-z]+@[a-z]+\\.[a-z]+)\" \n",
    "matches = re.search(email_pattern, resume_text)\n",
    "if matches:\n",
    "    email = matches.group()\n",
    "    print(f\"Email: {email}\")\n",
    "    "
   ]
  },
  {
   "cell_type": "code",
   "execution_count": 5,
   "id": "bf6b8dae",
   "metadata": {},
   "outputs": [
    {
     "name": "stdout",
     "output_type": "stream",
     "text": [
      "Phone: 123-456-7890\n"
     ]
    }
   ],
   "source": [
    "phone_pattern = r\"(\\d{3}-\\d{3}-\\d{4})\"\n",
    "matches = re.search(phone_pattern, resume_text)\n",
    "if matches:\n",
    "    phone = matches.group()\n",
    "    print(f\"Phone: {phone}\")"
   ]
  },
  {
   "cell_type": "code",
   "execution_count": 6,
   "id": "938698ee",
   "metadata": {},
   "outputs": [
    {
     "name": "stdout",
     "output_type": "stream",
     "text": [
      "URLs: gmail.com, linkedin.com/in/markjohnson, github.com/markjohnson\n"
     ]
    }
   ],
   "source": [
    "url_pattern = r\"[a-z\\-]+\\.[a-z]{2,}(?:/[^\\s]*)?\"\n",
    "matches = re.findall(url_pattern, resume_text)\n",
    "if matches:\n",
    "    urls = \", \".join(matches)\n",
    "    print(f\"URLs: {urls}\")"
   ]
  },
  {
   "cell_type": "code",
   "execution_count": 7,
   "id": "fbe60ecb",
   "metadata": {},
   "outputs": [
    {
     "name": "stdout",
     "output_type": "stream",
     "text": [
      "Words with 5 or more characters:\n",
      "gmail\n",
      "Phone\n",
      "years\n",
      "React\n",
      "Built\n",
      "using\n",
      "React\n",
      "React\n",
      "Tools\n"
     ]
    }
   ],
   "source": [
    "word_search=r\"\\b\\w{5}\\b\"\n",
    "matches = re.findall(word_search, resume_text)\n",
    "if matches:\n",
    "    print(\"Words with 5 or more characters:\")\n",
    "    for word in matches:\n",
    "        print(word)"
   ]
  },
  {
   "cell_type": "code",
   "execution_count": 8,
   "id": "3d1d4a7a",
   "metadata": {},
   "outputs": [
    {
     "name": "stdout",
     "output_type": "stream",
     "text": [
      "education: B.Sc. Computer Science, XYZ University, 2018\n",
      "\n"
     ]
    }
   ],
   "source": [
    "education_pattern = r\"(B\\.Sc.*?)(?=\\nExperience:)\"\n",
    "matches = re.search(education_pattern, resume_text, re.DOTALL)\n",
    "if matches:\n",
    "    education = matches.group()\n",
    "    print(f\"education: {education}\")"
   ]
  }
 ],
 "metadata": {
  "kernelspec": {
   "display_name": "Python 3",
   "language": "python",
   "name": "python3"
  },
  "language_info": {
   "codemirror_mode": {
    "name": "ipython",
    "version": 3
   },
   "file_extension": ".py",
   "mimetype": "text/x-python",
   "name": "python",
   "nbconvert_exporter": "python",
   "pygments_lexer": "ipython3",
   "version": "3.13.4"
  }
 },
 "nbformat": 4,
 "nbformat_minor": 5
}
