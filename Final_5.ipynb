{
 "cells": [
  {
   "cell_type": "code",
   "execution_count": 31,
   "id": "1b33b6c1",
   "metadata": {},
   "outputs": [],
   "source": [
    "import pandas as pd\n",
    "import sqlite3"
   ]
  },
  {
   "cell_type": "markdown",
   "id": "444349e0",
   "metadata": {},
   "source": [
    "#### Table 1 with age name id\n",
    "\n"
   ]
  },
  {
   "cell_type": "code",
   "execution_count": 32,
   "id": "bc4d33fc",
   "metadata": {},
   "outputs": [
    {
     "name": "stdout",
     "output_type": "stream",
     "text": [
      "[(1, 'Alice', 19), (2, 'Bob', 20), (3, 'Tej', 20), (4, 'Mike', 22), (5, 'tejas', 19), (6, 'Nishant', 28), (7, 'Ved', 24), (8, 'Rohan', 29), (10, 'Ayush', 25), (11, 'Manish', 19)]\n"
     ]
    }
   ],
   "source": [
    "\n",
    "new= sqlite3.connect('students.db')  \n",
    "c=new.cursor()\n",
    "query=\"\"\" select * from student \"\"\"\n",
    "output = c.execute(query).fetchall()\n",
    "print(output)   "
   ]
  },
  {
   "cell_type": "code",
   "execution_count": 33,
   "id": "f5637a70",
   "metadata": {},
   "outputs": [
    {
     "data": {
      "text/html": [
       "<div>\n",
       "<style scoped>\n",
       "    .dataframe tbody tr th:only-of-type {\n",
       "        vertical-align: middle;\n",
       "    }\n",
       "\n",
       "    .dataframe tbody tr th {\n",
       "        vertical-align: top;\n",
       "    }\n",
       "\n",
       "    .dataframe thead th {\n",
       "        text-align: right;\n",
       "    }\n",
       "</style>\n",
       "<table border=\"1\" class=\"dataframe\">\n",
       "  <thead>\n",
       "    <tr style=\"text-align: right;\">\n",
       "      <th></th>\n",
       "      <th>id</th>\n",
       "      <th>name</th>\n",
       "      <th>age</th>\n",
       "    </tr>\n",
       "  </thead>\n",
       "  <tbody>\n",
       "    <tr>\n",
       "      <th>0</th>\n",
       "      <td>1</td>\n",
       "      <td>Alice</td>\n",
       "      <td>19</td>\n",
       "    </tr>\n",
       "    <tr>\n",
       "      <th>1</th>\n",
       "      <td>2</td>\n",
       "      <td>Bob</td>\n",
       "      <td>20</td>\n",
       "    </tr>\n",
       "    <tr>\n",
       "      <th>2</th>\n",
       "      <td>3</td>\n",
       "      <td>Tej</td>\n",
       "      <td>20</td>\n",
       "    </tr>\n",
       "    <tr>\n",
       "      <th>3</th>\n",
       "      <td>4</td>\n",
       "      <td>Mike</td>\n",
       "      <td>22</td>\n",
       "    </tr>\n",
       "    <tr>\n",
       "      <th>4</th>\n",
       "      <td>5</td>\n",
       "      <td>tejas</td>\n",
       "      <td>19</td>\n",
       "    </tr>\n",
       "    <tr>\n",
       "      <th>5</th>\n",
       "      <td>6</td>\n",
       "      <td>Nishant</td>\n",
       "      <td>28</td>\n",
       "    </tr>\n",
       "    <tr>\n",
       "      <th>6</th>\n",
       "      <td>7</td>\n",
       "      <td>Ved</td>\n",
       "      <td>24</td>\n",
       "    </tr>\n",
       "    <tr>\n",
       "      <th>7</th>\n",
       "      <td>8</td>\n",
       "      <td>Rohan</td>\n",
       "      <td>29</td>\n",
       "    </tr>\n",
       "    <tr>\n",
       "      <th>8</th>\n",
       "      <td>10</td>\n",
       "      <td>Ayush</td>\n",
       "      <td>25</td>\n",
       "    </tr>\n",
       "    <tr>\n",
       "      <th>9</th>\n",
       "      <td>11</td>\n",
       "      <td>Manish</td>\n",
       "      <td>19</td>\n",
       "    </tr>\n",
       "  </tbody>\n",
       "</table>\n",
       "</div>"
      ],
      "text/plain": [
       "   id     name  age\n",
       "0   1    Alice   19\n",
       "1   2      Bob   20\n",
       "2   3      Tej   20\n",
       "3   4     Mike   22\n",
       "4   5    tejas   19\n",
       "5   6  Nishant   28\n",
       "6   7      Ved   24\n",
       "7   8    Rohan   29\n",
       "8  10    Ayush   25\n",
       "9  11   Manish   19"
      ]
     },
     "execution_count": 33,
     "metadata": {},
     "output_type": "execute_result"
    }
   ],
   "source": [
    "c.execute(\"SELECT * FROM student\")\n",
    "output = c.fetchall()\n",
    "df1 = pd.DataFrame(output, columns=['id', 'name', 'age'])\n",
    "df1"
   ]
  },
  {
   "cell_type": "markdown",
   "id": "f7fa8958",
   "metadata": {},
   "source": [
    "#### Table 2 with id and college_name\n"
   ]
  },
  {
   "cell_type": "code",
   "execution_count": null,
   "id": "d4ca628a",
   "metadata": {},
   "outputs": [],
   "source": [
    "query=\"\"\"\n",
    "Create Table students_data (\n",
    "    id INTEGER PRIMARY KEY,\n",
    "    college_name TEXT NOT NULL)\"\"\"\n",
    "c.execute(query)\n",
    "output = c.fetchall()\n",
    "print(output)"
   ]
  },
  {
   "cell_type": "code",
   "execution_count": null,
   "id": "136459b4",
   "metadata": {},
   "outputs": [],
   "source": [
    "stud_data = [\n",
    "    {\"id\": 1, \"college_name\": \"MIT\"},\n",
    "    {\"id\": 2, \"college_name\": \"Stanford\"},\n",
    "    {\"id\": 3, \"college_name\": \"Harvard\"},\n",
    "    {\"id\": 4, \"college_name\": \"Yale\"},\n",
    "    {\"id\": 5, \"college_name\": \"Princeton\"},\n",
    "    {\"id\": 6, \"college_name\": \"Columbia\"},\n",
    "    {\"id\": 7, \"college_name\": \"Caltech\"},\n",
    "    {\"id\": 8, \"college_name\": \"UCLA\"},\n",
    "    {\"id\": 9, \"college_name\": \"Berkeley\"},\n",
    "    {\"id\": 10, \"college_name\": \"Cornell\"},\n",
    "    {\"id\": 11, \"college_name\": \"University of Chicago\"},\n",
    "    {\"id\": 12, \"college_name\": \"Johns Hopkins University\"},\n",
    "    {\"id\": 13, \"college_name\": \"Duke University\"},\n",
    "    {\"id\": 14, \"college_name\": \"Northwestern University\"},\n",
    "    {\"id\": 15, \"college_name\": \"University of Michigan\"}]\n",
    "\n",
    "query = \"\"\"INSERT INTO students_data Values (:id, :college_name)\n",
    ";\"\"\"\n",
    "c.executemany(query, stud_data)\n",
    "new.commit()\n"
   ]
  },
  {
   "cell_type": "code",
   "execution_count": 35,
   "id": "9aa2dadc",
   "metadata": {},
   "outputs": [
    {
     "data": {
      "text/html": [
       "<div>\n",
       "<style scoped>\n",
       "    .dataframe tbody tr th:only-of-type {\n",
       "        vertical-align: middle;\n",
       "    }\n",
       "\n",
       "    .dataframe tbody tr th {\n",
       "        vertical-align: top;\n",
       "    }\n",
       "\n",
       "    .dataframe thead th {\n",
       "        text-align: right;\n",
       "    }\n",
       "</style>\n",
       "<table border=\"1\" class=\"dataframe\">\n",
       "  <thead>\n",
       "    <tr style=\"text-align: right;\">\n",
       "      <th></th>\n",
       "      <th>id</th>\n",
       "      <th>college_name</th>\n",
       "    </tr>\n",
       "  </thead>\n",
       "  <tbody>\n",
       "    <tr>\n",
       "      <th>0</th>\n",
       "      <td>1</td>\n",
       "      <td>MIT</td>\n",
       "    </tr>\n",
       "    <tr>\n",
       "      <th>1</th>\n",
       "      <td>2</td>\n",
       "      <td>Stanford</td>\n",
       "    </tr>\n",
       "    <tr>\n",
       "      <th>2</th>\n",
       "      <td>3</td>\n",
       "      <td>Harvard</td>\n",
       "    </tr>\n",
       "    <tr>\n",
       "      <th>3</th>\n",
       "      <td>4</td>\n",
       "      <td>Yale</td>\n",
       "    </tr>\n",
       "    <tr>\n",
       "      <th>4</th>\n",
       "      <td>5</td>\n",
       "      <td>Princeton</td>\n",
       "    </tr>\n",
       "    <tr>\n",
       "      <th>5</th>\n",
       "      <td>6</td>\n",
       "      <td>Columbia</td>\n",
       "    </tr>\n",
       "    <tr>\n",
       "      <th>6</th>\n",
       "      <td>7</td>\n",
       "      <td>Caltech</td>\n",
       "    </tr>\n",
       "    <tr>\n",
       "      <th>7</th>\n",
       "      <td>8</td>\n",
       "      <td>UCLA</td>\n",
       "    </tr>\n",
       "    <tr>\n",
       "      <th>8</th>\n",
       "      <td>9</td>\n",
       "      <td>Berkeley</td>\n",
       "    </tr>\n",
       "    <tr>\n",
       "      <th>9</th>\n",
       "      <td>10</td>\n",
       "      <td>Cornell</td>\n",
       "    </tr>\n",
       "    <tr>\n",
       "      <th>10</th>\n",
       "      <td>11</td>\n",
       "      <td>University of Chicago</td>\n",
       "    </tr>\n",
       "    <tr>\n",
       "      <th>11</th>\n",
       "      <td>12</td>\n",
       "      <td>Johns Hopkins University</td>\n",
       "    </tr>\n",
       "    <tr>\n",
       "      <th>12</th>\n",
       "      <td>13</td>\n",
       "      <td>Duke University</td>\n",
       "    </tr>\n",
       "    <tr>\n",
       "      <th>13</th>\n",
       "      <td>14</td>\n",
       "      <td>Northwestern University</td>\n",
       "    </tr>\n",
       "    <tr>\n",
       "      <th>14</th>\n",
       "      <td>15</td>\n",
       "      <td>University of Michigan</td>\n",
       "    </tr>\n",
       "  </tbody>\n",
       "</table>\n",
       "</div>"
      ],
      "text/plain": [
       "    id              college_name\n",
       "0    1                       MIT\n",
       "1    2                  Stanford\n",
       "2    3                   Harvard\n",
       "3    4                      Yale\n",
       "4    5                 Princeton\n",
       "5    6                  Columbia\n",
       "6    7                   Caltech\n",
       "7    8                      UCLA\n",
       "8    9                  Berkeley\n",
       "9   10                   Cornell\n",
       "10  11     University of Chicago\n",
       "11  12  Johns Hopkins University\n",
       "12  13           Duke University\n",
       "13  14   Northwestern University\n",
       "14  15    University of Michigan"
      ]
     },
     "execution_count": 35,
     "metadata": {},
     "output_type": "execute_result"
    }
   ],
   "source": [
    "c.execute(\"SELECT * FROM students_data\")\n",
    "output = c.fetchall()\n",
    "df2 = pd.DataFrame(output, columns=['id','college_name'])\n",
    "df2"
   ]
  },
  {
   "cell_type": "markdown",
   "id": "72d77111",
   "metadata": {},
   "source": [
    "#### Left join"
   ]
  },
  {
   "cell_type": "code",
   "execution_count": 36,
   "id": "37fa743c",
   "metadata": {},
   "outputs": [
    {
     "name": "stdout",
     "output_type": "stream",
     "text": [
      "[('student',), ('students_data',)]\n"
     ]
    }
   ],
   "source": [
    "c.execute(\"SELECT name FROM sqlite_master WHERE type='table'\")\n",
    "print(c.fetchall())\n",
    "\n"
   ]
  },
  {
   "cell_type": "code",
   "execution_count": 51,
   "id": "53a1846f",
   "metadata": {},
   "outputs": [
    {
     "name": "stdout",
     "output_type": "stream",
     "text": [
      "   id     name  age           college_name\n",
      "0   1    Alice   19                    MIT\n",
      "1   2      Bob   20               Stanford\n",
      "2   3      Tej   20                Harvard\n",
      "3   4     Mike   22                   Yale\n",
      "4   5    tejas   19              Princeton\n",
      "5   6  Nishant   28               Columbia\n",
      "6   7      Ved   24                Caltech\n",
      "7   8    Rohan   29                   UCLA\n",
      "8  10    Ayush   25                Cornell\n",
      "9  11   Manish   19  University of Chicago\n"
     ]
    }
   ],
   "source": [
    "query = \"\"\"\n",
    "SELECT s.id, s.name, s.age, sd.college_name\n",
    "FROM student s\n",
    "LEFT JOIN students_data sd ON s.id = sd.id\n",
    "\"\"\"\n",
    "c.execute(query)\n",
    "df_left = pd.DataFrame(c.fetchall(), columns=['id', 'name', 'age', 'college_name'])\n",
    "print(df_left)\n"
   ]
  },
  {
   "cell_type": "markdown",
   "id": "b6033027",
   "metadata": {},
   "source": [
    "#### FULL Join\n"
   ]
  },
  {
   "cell_type": "code",
   "execution_count": 53,
   "id": "f761ffe7",
   "metadata": {},
   "outputs": [
    {
     "name": "stdout",
     "output_type": "stream",
     "text": [
      "      ID     name   age  student_id              college_name\n",
      "0    1.0    Alice  19.0           1                       MIT\n",
      "1    2.0      Bob  20.0           2                  Stanford\n",
      "2    3.0      Tej  20.0           3                   Harvard\n",
      "3    4.0     Mike  22.0           4                      Yale\n",
      "4    5.0    tejas  19.0           5                 Princeton\n",
      "5    6.0  Nishant  28.0           6                  Columbia\n",
      "6    7.0      Ved  24.0           7                   Caltech\n",
      "7    8.0    Rohan  29.0           8                      UCLA\n",
      "8   10.0    Ayush  25.0          10                   Cornell\n",
      "9   11.0   Manish  19.0          11     University of Chicago\n",
      "10   NaN     None   NaN           9                  Berkeley\n",
      "11   NaN     None   NaN          12  Johns Hopkins University\n",
      "12   NaN     None   NaN          13           Duke University\n",
      "13   NaN     None   NaN          14   Northwestern University\n",
      "14   NaN     None   NaN          15    University of Michigan\n"
     ]
    }
   ],
   "source": [
    "query = \"\"\"select * from student s\n",
    "FULL JOIN students_data sd\n",
    "on s.id = sd.id\"\"\"\n",
    "c.execute(query)\n",
    "full = pd.DataFrame(c.fetchall(), columns=['ID','name','age' ,'student_id', 'college_name'])\n",
    "print(full)\n"
   ]
  },
  {
   "cell_type": "markdown",
   "id": "8548b807",
   "metadata": {},
   "source": [
    "#### CROSS join"
   ]
  },
  {
   "cell_type": "code",
   "execution_count": 49,
   "id": "5eefdf4f",
   "metadata": {},
   "outputs": [
    {
     "data": {
      "text/html": [
       "<div>\n",
       "<style scoped>\n",
       "    .dataframe tbody tr th:only-of-type {\n",
       "        vertical-align: middle;\n",
       "    }\n",
       "\n",
       "    .dataframe tbody tr th {\n",
       "        vertical-align: top;\n",
       "    }\n",
       "\n",
       "    .dataframe thead th {\n",
       "        text-align: right;\n",
       "    }\n",
       "</style>\n",
       "<table border=\"1\" class=\"dataframe\">\n",
       "  <thead>\n",
       "    <tr style=\"text-align: right;\">\n",
       "      <th></th>\n",
       "      <th>ID</th>\n",
       "      <th>name</th>\n",
       "      <th>age</th>\n",
       "      <th>student_id</th>\n",
       "      <th>college_name</th>\n",
       "    </tr>\n",
       "  </thead>\n",
       "  <tbody>\n",
       "    <tr>\n",
       "      <th>0</th>\n",
       "      <td>1</td>\n",
       "      <td>Alice</td>\n",
       "      <td>19</td>\n",
       "      <td>1</td>\n",
       "      <td>MIT</td>\n",
       "    </tr>\n",
       "    <tr>\n",
       "      <th>1</th>\n",
       "      <td>1</td>\n",
       "      <td>Alice</td>\n",
       "      <td>19</td>\n",
       "      <td>2</td>\n",
       "      <td>Stanford</td>\n",
       "    </tr>\n",
       "    <tr>\n",
       "      <th>2</th>\n",
       "      <td>1</td>\n",
       "      <td>Alice</td>\n",
       "      <td>19</td>\n",
       "      <td>3</td>\n",
       "      <td>Harvard</td>\n",
       "    </tr>\n",
       "    <tr>\n",
       "      <th>3</th>\n",
       "      <td>1</td>\n",
       "      <td>Alice</td>\n",
       "      <td>19</td>\n",
       "      <td>4</td>\n",
       "      <td>Yale</td>\n",
       "    </tr>\n",
       "    <tr>\n",
       "      <th>4</th>\n",
       "      <td>1</td>\n",
       "      <td>Alice</td>\n",
       "      <td>19</td>\n",
       "      <td>5</td>\n",
       "      <td>Princeton</td>\n",
       "    </tr>\n",
       "    <tr>\n",
       "      <th>...</th>\n",
       "      <td>...</td>\n",
       "      <td>...</td>\n",
       "      <td>...</td>\n",
       "      <td>...</td>\n",
       "      <td>...</td>\n",
       "    </tr>\n",
       "    <tr>\n",
       "      <th>145</th>\n",
       "      <td>11</td>\n",
       "      <td>Manish</td>\n",
       "      <td>19</td>\n",
       "      <td>11</td>\n",
       "      <td>University of Chicago</td>\n",
       "    </tr>\n",
       "    <tr>\n",
       "      <th>146</th>\n",
       "      <td>11</td>\n",
       "      <td>Manish</td>\n",
       "      <td>19</td>\n",
       "      <td>12</td>\n",
       "      <td>Johns Hopkins University</td>\n",
       "    </tr>\n",
       "    <tr>\n",
       "      <th>147</th>\n",
       "      <td>11</td>\n",
       "      <td>Manish</td>\n",
       "      <td>19</td>\n",
       "      <td>13</td>\n",
       "      <td>Duke University</td>\n",
       "    </tr>\n",
       "    <tr>\n",
       "      <th>148</th>\n",
       "      <td>11</td>\n",
       "      <td>Manish</td>\n",
       "      <td>19</td>\n",
       "      <td>14</td>\n",
       "      <td>Northwestern University</td>\n",
       "    </tr>\n",
       "    <tr>\n",
       "      <th>149</th>\n",
       "      <td>11</td>\n",
       "      <td>Manish</td>\n",
       "      <td>19</td>\n",
       "      <td>15</td>\n",
       "      <td>University of Michigan</td>\n",
       "    </tr>\n",
       "  </tbody>\n",
       "</table>\n",
       "<p>150 rows × 5 columns</p>\n",
       "</div>"
      ],
      "text/plain": [
       "     ID    name  age  student_id              college_name\n",
       "0     1   Alice   19           1                       MIT\n",
       "1     1   Alice   19           2                  Stanford\n",
       "2     1   Alice   19           3                   Harvard\n",
       "3     1   Alice   19           4                      Yale\n",
       "4     1   Alice   19           5                 Princeton\n",
       "..   ..     ...  ...         ...                       ...\n",
       "145  11  Manish   19          11     University of Chicago\n",
       "146  11  Manish   19          12  Johns Hopkins University\n",
       "147  11  Manish   19          13           Duke University\n",
       "148  11  Manish   19          14   Northwestern University\n",
       "149  11  Manish   19          15    University of Michigan\n",
       "\n",
       "[150 rows x 5 columns]"
      ]
     },
     "execution_count": 49,
     "metadata": {},
     "output_type": "execute_result"
    }
   ],
   "source": [
    "query =\"\"\" select * from student s\n",
    "cross join students_data sd\n",
    "\"\"\"\n",
    "c.execute(query)\n",
    "cross = pd.DataFrame(c.fetchall(), columns=['ID','name','age' ,'student_id', 'college_name'])\n",
    "cross"
   ]
  },
  {
   "cell_type": "code",
   "execution_count": 40,
   "id": "35f97d23",
   "metadata": {},
   "outputs": [
    {
     "name": "stdout",
     "output_type": "stream",
     "text": [
      "   id     name  age\n",
      "0   1    Alice   19\n",
      "1   2      Bob   20\n",
      "2   3      Tej   20\n",
      "3   4     Mike   22\n",
      "4   5    tejas   19\n",
      "5   6  Nishant   28\n",
      "6   7      Ved   24\n",
      "7   8    Rohan   29\n",
      "8  10    Ayush   25\n",
      "9  11   Manish   19\n"
     ]
    }
   ],
   "source": [
    "read_sql_query = \"SELECT * FROM student\"\n",
    "print(pd.read_sql_query(read_sql_query, new))\n",
    "\n"
   ]
  },
  {
   "cell_type": "code",
   "execution_count": null,
   "id": "dfeb848d",
   "metadata": {},
   "outputs": [],
   "source": [
    "read_sql_query=\"insert into student values (11,'Manish',19)\"\n",
    "c.execute(read_sql_query)\n",
    "new.commit()\n",
    "read_sql_query=\"select * from student\"\n",
    "print(pd.read_sql_query(read_sql_query, new))"
   ]
  },
  {
   "cell_type": "code",
   "execution_count": null,
   "id": "61d5876b",
   "metadata": {},
   "outputs": [
    {
     "name": "stdout",
     "output_type": "stream",
     "text": [
      "   id     name  age\n",
      "0   1    Alice   19\n",
      "1   2      Bob   20\n",
      "2   3      Tej   20\n",
      "3   4     Mike   22\n",
      "4   6  Nishant   28\n",
      "5   7      Ved   24\n",
      "6   8    Rohan   29\n",
      "7  10    Ayush   25\n",
      "8  11   Manish   19\n",
      "9  14    tejas   19\n"
     ]
    }
   ],
   "source": [
    "read_sql_query=\"update student set age =19 where id in(1,14)\"\n",
    "c.execute(read_sql_query)\n",
    "new.commit()\n",
    "read_sql_query=\"select * from student\"\n",
    "print(pd.read_sql_query(read_sql_query, new))"
   ]
  },
  {
   "cell_type": "code",
   "execution_count": null,
   "id": "fef95fe9",
   "metadata": {},
   "outputs": [
    {
     "name": "stdout",
     "output_type": "stream",
     "text": [
      "   id     name  age\n",
      "0   1    Alice   19\n",
      "1   2      Bob   20\n",
      "2   3      Tej   20\n",
      "3   4     Mike   22\n",
      "4   5    tejas   19\n",
      "5   6  Nishant   28\n",
      "6   7      Ved   24\n",
      "7   8    Rohan   29\n",
      "8  10    Ayush   25\n",
      "9  11   Manish   19\n"
     ]
    }
   ],
   "source": [
    "read_sql_query=\"update student set id =5 where name = 'tejas'\"\n",
    "c.execute(read_sql_query)\n",
    "new.commit()\n",
    "read_sql_query=\"select * from student\"\n",
    "print(pd.read_sql_query(read_sql_query, new))"
   ]
  },
  {
   "cell_type": "code",
   "execution_count": 43,
   "id": "21303b51",
   "metadata": {},
   "outputs": [
    {
     "name": "stdout",
     "output_type": "stream",
     "text": [
      "   id     name  age\n",
      "0   1    Alice   19\n",
      "1   2      Bob   20\n",
      "2   3      Tej   20\n",
      "3   4     Mike   22\n",
      "4   5    tejas   19\n",
      "5   6  Nishant   28\n",
      "6   7      Ved   24\n",
      "7   8    Rohan   29\n",
      "8  10    Ayush   25\n",
      "9  11   Manish   19\n"
     ]
    }
   ],
   "source": [
    "read_sql_query = \"select * from student\"\n",
    "c.execute(read_sql_query)\n",
    "print(pd.read_sql_query(read_sql_query, new))"
   ]
  },
  {
   "cell_type": "code",
   "execution_count": null,
   "id": "bd46bab3",
   "metadata": {},
   "outputs": [],
   "source": []
  },
  {
   "cell_type": "markdown",
   "id": "29c7174d",
   "metadata": {},
   "source": [
    "\n",
    "---\n",
    "\n",
    "#### 1. **INNER JOIN** – *\"Only what's common\"*\n",
    "\n",
    "**Real-life use:**\n",
    "In a school, you want to list only **students who have registered for a course**.\n",
    "\n",
    "**Why it's useful:**\n",
    "You only want meaningful matches — no extra or missing data. It keeps your report clean and focused.\n",
    "\n",
    "**Example Scenario:**\n",
    "You run a report of students *actually attending* classes — no empty or orphaned data.\n",
    "\n",
    ">  Used when: Only relevant, matched data matters (e.g., active orders with customers, enrolled students with courses).\n",
    "\n",
    "---\n",
    "\n",
    "####  2. **LEFT JOIN** – *\"Everything from left, add matching info from right\"*\n",
    "\n",
    "**Real-life use:**\n",
    "You want to see **all students**, even if some haven’t enrolled in a course yet.\n",
    "\n",
    "**Why it's useful:**\n",
    "It helps spot missing data or incomplete processes — e.g., who hasn’t registered for classes.\n",
    "\n",
    "**Example Scenario:**\n",
    "The admin wants to remind students who haven’t registered yet.\n",
    "\n",
    "> Used when: You must include everything from one side, and optionally match from the other (e.g., customers with or without orders).\n",
    "\n",
    "---\n",
    "\n",
    "#### 3. **FULL OUTER JOIN** – *\"Everthing from both sides, and only shows the matched part and nan where not matched\"*\n",
    "\n",
    "**Real-life use:**\n",
    "You want to see **all students** and **all course enrollments**, including:\n",
    "\n",
    "* Students who didn’t enroll\n",
    "* Courses assigned to non-existent students\n",
    "\n",
    "**Why it's useful:**\n",
    "It gives a complete picture — helps in **data auditing**, validation, and fixing inconsistencies.\n",
    "\n",
    "**Example Scenario:**\n",
    "The system shows missing students for some course entries or new students who aren't in course records.\n",
    "\n",
    ">  Used when: You need the **whole picture**, for cleanup, reconciliation, or audits.\n",
    "\n",
    "---\n",
    "\n",
    "####  4. **CROSS JOIN** – *\"All possible combinations\"*\n",
    "\n",
    "**Real-life use:**\n",
    "You’re scheduling interviews between **5 candidates and 3 interviewers**, and want to see every possible pair.\n",
    "\n",
    "**Why it's useful:**\n",
    "It helps in **planning scenarios**, like generating all possible combinations of items, time slots, or teams.\n",
    "\n",
    "**Example Scenario:**\n",
    "In an event, list every student with every session to assign them later.\n",
    "\n",
    ">Used when: You want to **generate combinations** or permutations (e.g., test all prices × features, students × time slots).\n",
    "\n",
    "\n"
   ]
  }
 ],
 "metadata": {
  "kernelspec": {
   "display_name": "Python 3",
   "language": "python",
   "name": "python3"
  },
  "language_info": {
   "codemirror_mode": {
    "name": "ipython",
    "version": 3
   },
   "file_extension": ".py",
   "mimetype": "text/x-python",
   "name": "python",
   "nbconvert_exporter": "python",
   "pygments_lexer": "ipython3",
   "version": "3.13.4"
  }
 },
 "nbformat": 4,
 "nbformat_minor": 5
}
