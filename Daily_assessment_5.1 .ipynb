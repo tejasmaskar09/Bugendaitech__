{
 "cells": [
  {
   "cell_type": "code",
   "execution_count": 1,
   "id": "fc40a633",
   "metadata": {},
   "outputs": [],
   "source": [
    "import pandas as pd\n",
    "import sqlite3"
   ]
  },
  {
   "cell_type": "code",
   "execution_count": 2,
   "id": "5270fb59",
   "metadata": {},
   "outputs": [],
   "source": [
    "new = sqlite3.connect(\"students_clg.db\")   \n",
    "c = new.cursor() "
   ]
  },
  {
   "cell_type": "code",
   "execution_count": 5,
   "id": "938597c4",
   "metadata": {},
   "outputs": [
    {
     "name": "stdout",
     "output_type": "stream",
     "text": [
      "[]\n"
     ]
    }
   ],
   "source": [
    "c.execute(\"select * from students_data\")\n",
    "output =c.fetchall()\n",
    "print(output)\n"
   ]
  },
  {
   "cell_type": "code",
   "execution_count": 6,
   "id": "1c1c3bdc",
   "metadata": {},
   "outputs": [
    {
     "name": "stdout",
     "output_type": "stream",
     "text": [
      "[(1, 'MIT'), (2, 'Stanford'), (3, 'Harvard'), (4, 'Yale'), (5, 'Princeton'), (6, 'Columbia'), (7, 'Caltech'), (8, 'UCLA'), (9, 'Berkeley'), (10, 'Cornell'), (11, 'University of Chicago'), (12, 'Johns Hopkins University'), (13, 'Duke University'), (14, 'Northwestern University'), (15, 'University of Michigan')]\n"
     ]
    }
   ],
   "source": [
    "stud_data = [\n",
    "    {\"id\": 1, \"college_name\": \"MIT\"},\n",
    "    {\"id\": 2, \"college_name\": \"Stanford\"},\n",
    "    {\"id\": 3, \"college_name\": \"Harvard\"},\n",
    "    {\"id\": 4, \"college_name\": \"Yale\"},\n",
    "    {\"id\": 5, \"college_name\": \"Princeton\"},\n",
    "    {\"id\": 6, \"college_name\": \"Columbia\"},\n",
    "    {\"id\": 7, \"college_name\": \"Caltech\"},\n",
    "    {\"id\": 8, \"college_name\": \"UCLA\"},\n",
    "    {\"id\": 9, \"college_name\": \"Berkeley\"},\n",
    "    {\"id\": 10, \"college_name\": \"Cornell\"},\n",
    "    {\"id\": 11, \"college_name\": \"University of Chicago\"},\n",
    "    {\"id\": 12, \"college_name\": \"Johns Hopkins University\"},\n",
    "    {\"id\": 13, \"college_name\": \"Duke University\"},\n",
    "    {\"id\": 14, \"college_name\": \"Northwestern University\"},\n",
    "    {\"id\": 15, \"college_name\": \"University of Michigan\"}]\n",
    "\n",
    "query = \"\"\"INSERT INTO students_data Values (:id, :college_name)\n",
    ";\"\"\"\n",
    "c.executemany(query, stud_data)\n",
    "new.commit()\n",
    "c.execute(\"select * from students_data\")\n",
    "output = c.fetchall()\n",
    "print(output)"
   ]
  },
  {
   "cell_type": "code",
   "execution_count": 7,
   "id": "eb21553f",
   "metadata": {},
   "outputs": [
    {
     "data": {
      "text/html": [
       "<div>\n",
       "<style scoped>\n",
       "    .dataframe tbody tr th:only-of-type {\n",
       "        vertical-align: middle;\n",
       "    }\n",
       "\n",
       "    .dataframe tbody tr th {\n",
       "        vertical-align: top;\n",
       "    }\n",
       "\n",
       "    .dataframe thead th {\n",
       "        text-align: right;\n",
       "    }\n",
       "</style>\n",
       "<table border=\"1\" class=\"dataframe\">\n",
       "  <thead>\n",
       "    <tr style=\"text-align: right;\">\n",
       "      <th></th>\n",
       "      <th>id</th>\n",
       "      <th>college_name</th>\n",
       "    </tr>\n",
       "  </thead>\n",
       "  <tbody>\n",
       "    <tr>\n",
       "      <th>0</th>\n",
       "      <td>1</td>\n",
       "      <td>MIT</td>\n",
       "    </tr>\n",
       "    <tr>\n",
       "      <th>1</th>\n",
       "      <td>2</td>\n",
       "      <td>Stanford</td>\n",
       "    </tr>\n",
       "    <tr>\n",
       "      <th>2</th>\n",
       "      <td>3</td>\n",
       "      <td>Harvard</td>\n",
       "    </tr>\n",
       "    <tr>\n",
       "      <th>3</th>\n",
       "      <td>4</td>\n",
       "      <td>Yale</td>\n",
       "    </tr>\n",
       "    <tr>\n",
       "      <th>4</th>\n",
       "      <td>5</td>\n",
       "      <td>Princeton</td>\n",
       "    </tr>\n",
       "    <tr>\n",
       "      <th>5</th>\n",
       "      <td>6</td>\n",
       "      <td>Columbia</td>\n",
       "    </tr>\n",
       "    <tr>\n",
       "      <th>6</th>\n",
       "      <td>7</td>\n",
       "      <td>Caltech</td>\n",
       "    </tr>\n",
       "    <tr>\n",
       "      <th>7</th>\n",
       "      <td>8</td>\n",
       "      <td>UCLA</td>\n",
       "    </tr>\n",
       "    <tr>\n",
       "      <th>8</th>\n",
       "      <td>9</td>\n",
       "      <td>Berkeley</td>\n",
       "    </tr>\n",
       "    <tr>\n",
       "      <th>9</th>\n",
       "      <td>10</td>\n",
       "      <td>Cornell</td>\n",
       "    </tr>\n",
       "    <tr>\n",
       "      <th>10</th>\n",
       "      <td>11</td>\n",
       "      <td>University of Chicago</td>\n",
       "    </tr>\n",
       "    <tr>\n",
       "      <th>11</th>\n",
       "      <td>12</td>\n",
       "      <td>Johns Hopkins University</td>\n",
       "    </tr>\n",
       "    <tr>\n",
       "      <th>12</th>\n",
       "      <td>13</td>\n",
       "      <td>Duke University</td>\n",
       "    </tr>\n",
       "    <tr>\n",
       "      <th>13</th>\n",
       "      <td>14</td>\n",
       "      <td>Northwestern University</td>\n",
       "    </tr>\n",
       "    <tr>\n",
       "      <th>14</th>\n",
       "      <td>15</td>\n",
       "      <td>University of Michigan</td>\n",
       "    </tr>\n",
       "  </tbody>\n",
       "</table>\n",
       "</div>"
      ],
      "text/plain": [
       "    id              college_name\n",
       "0    1                       MIT\n",
       "1    2                  Stanford\n",
       "2    3                   Harvard\n",
       "3    4                      Yale\n",
       "4    5                 Princeton\n",
       "5    6                  Columbia\n",
       "6    7                   Caltech\n",
       "7    8                      UCLA\n",
       "8    9                  Berkeley\n",
       "9   10                   Cornell\n",
       "10  11     University of Chicago\n",
       "11  12  Johns Hopkins University\n",
       "12  13           Duke University\n",
       "13  14   Northwestern University\n",
       "14  15    University of Michigan"
      ]
     },
     "execution_count": 7,
     "metadata": {},
     "output_type": "execute_result"
    }
   ],
   "source": [
    "c.execute(\"SELECT * FROM students_data\")\n",
    "output = c.fetchall()\n",
    "df = pd.DataFrame(output, columns=['id','college_name'])\n",
    "df"
   ]
  }
 ],
 "metadata": {
  "kernelspec": {
   "display_name": "Python 3",
   "language": "python",
   "name": "python3"
  },
  "language_info": {
   "codemirror_mode": {
    "name": "ipython",
    "version": 3
   },
   "file_extension": ".py",
   "mimetype": "text/x-python",
   "name": "python",
   "nbconvert_exporter": "python",
   "pygments_lexer": "ipython3",
   "version": "3.13.4"
  }
 },
 "nbformat": 4,
 "nbformat_minor": 5
}
