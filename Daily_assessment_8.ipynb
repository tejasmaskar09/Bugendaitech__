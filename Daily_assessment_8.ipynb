{
 "cells": [
  {
   "cell_type": "code",
   "execution_count": 2,
   "id": "9bf12642",
   "metadata": {},
   "outputs": [],
   "source": [
    "import re"
   ]
  },
  {
   "cell_type": "code",
   "execution_count": 3,
   "id": "3a752e16",
   "metadata": {},
   "outputs": [],
   "source": [
    "emails = [\n",
    "    \"john.doe@example.com\",\n",
    "    \"alice_123@gmail.co.in\",\n",
    "    \"bob@company.org\",\n",
    "    \"tejas.maskar@uni.edu\",\n",
    "    \"no_reply@service.io\"\n",
    "]\n",
    "\n",
    "phones = [\n",
    "    \"9876543210\",\n",
    "    \"+91-9876543210\",\n",
    "    \"09876543210\",\n",
    "    \"123-456-7890\",\n",
    "    \"(022)12345678\"\n",
    "]\n"
   ]
  },
  {
   "cell_type": "code",
   "execution_count": 4,
   "id": "25ea5425",
   "metadata": {},
   "outputs": [
    {
     "name": "stdout",
     "output_type": "stream",
     "text": [
      "9876543210 matches the pattern\n",
      "+91-9876543210 matches the pattern\n",
      "09876543210 matches the pattern\n",
      "123-456-7890 does NOT match\n",
      "(022)12345678 does NOT match\n"
     ]
    }
   ],
   "source": [
    "phone_pattern = r\"^(\\+91[-]?|0)?\\d{10}$\"\n",
    "\n",
    "for i in range(len(phones)):\n",
    "    if re.findall(phone_pattern, phones[i]):\n",
    "        print(phones[i], \"matches the pattern\")\n",
    "    else:\n",
    "        print(phones[i], \"does NOT match\")\n"
   ]
  },
  {
   "cell_type": "code",
   "execution_count": 5,
   "id": "519a7cad",
   "metadata": {},
   "outputs": [
    {
     "name": "stdout",
     "output_type": "stream",
     "text": [
      "9876543210 matches the pattern\n",
      "+91-9876543210 matches the pattern\n",
      "09876543210 matches the pattern\n",
      "123-456-7890 does NOT match\n",
      "(022)12345678 does NOT match\n"
     ]
    }
   ],
   "source": [
    "phone_pattern = r\"^(\\+91[-]?|0)?\\d{10}$\"\n",
    "\n",
    "for i in range(len(phones)):\n",
    "    if re.match(phone_pattern, phones[i]):\n",
    "        print(phones[i], \"matches the pattern\")\n",
    "    else:\n",
    "        print(phones[i], \"does NOT match\")\n"
   ]
  },
  {
   "cell_type": "code",
   "execution_count": 6,
   "id": "2d1ad4f2",
   "metadata": {},
   "outputs": [
    {
     "name": "stdout",
     "output_type": "stream",
     "text": [
      "9876543210 does NOT match\n",
      "+91-9876543210 does NOT match\n",
      "09876543210 does NOT match\n",
      "123-456-7890 matches the pattern\n",
      "(022)12345678 does NOT match\n"
     ]
    }
   ],
   "source": [
    "phone_pattern2=r\"^(\\d{3}[-]\\d{3}[-]\\d{4})\"\n",
    "for i in range(len(phones)):\n",
    "    if re.match(phone_pattern2, phones[i]):\n",
    "        print(phones[i], \"matches the pattern\")\n",
    "    else:\n",
    "        print(phones[i], \"does NOT match\")"
   ]
  },
  {
   "cell_type": "code",
   "execution_count": 7,
   "id": "be2242c3",
   "metadata": {},
   "outputs": [
    {
     "name": "stdout",
     "output_type": "stream",
     "text": [
      "9876543210 does NOT match\n",
      "+91-9876543210 does NOT match\n",
      "09876543210 does NOT match\n",
      "123-456-7890 does NOT match\n",
      "(022)12345678 matches the pattern\n"
     ]
    }
   ],
   "source": [
    "phone_pattern3 = r\"^\\(\\d{3}\\)\\d{8}$\"\n",
    "for i in range(len(phones)):\n",
    "    if re.match(phone_pattern3, phones[i]):\n",
    "        print(phones[i], \"matches the pattern\")\n",
    "    else:\n",
    "        print(phones[i], \"does NOT match\")"
   ]
  },
  {
   "cell_type": "code",
   "execution_count": 8,
   "id": "f8a9c1ed",
   "metadata": {},
   "outputs": [
    {
     "data": {
      "text/plain": [
       "['john.doe@example.com',\n",
       " 'alice_123@gmail.co.in',\n",
       " 'bob@company.org',\n",
       " 'tejas.maskar@uni.edu',\n",
       " 'no_reply@service.io']"
      ]
     },
     "execution_count": 8,
     "metadata": {},
     "output_type": "execute_result"
    }
   ],
   "source": [
    "emails"
   ]
  },
  {
   "cell_type": "code",
   "execution_count": 9,
   "id": "c7e95332",
   "metadata": {},
   "outputs": [
    {
     "name": "stdout",
     "output_type": "stream",
     "text": [
      "john.doe@example.com matches the pattern\n",
      "alice_123@gmail.co.in matches the pattern\n",
      "bob@company.org matches the pattern\n",
      "tejas.maskar@uni.edu matches the pattern\n",
      "no_reply@service.io matches the pattern\n"
     ]
    }
   ],
   "source": [
    "mail_pattern = r\"^[\\w\\.]+@[\\w]+\\.[\\w]\"\n",
    "for i in range(len(emails)):\n",
    "    if re.match(mail_pattern, emails[i]):\n",
    "        print(emails[i], \"matches the pattern\")\n",
    "    else:\n",
    "        print(emails[i], \"does NOT match\")"
   ]
  },
  {
   "cell_type": "code",
   "execution_count": 10,
   "id": "eb46b133",
   "metadata": {},
   "outputs": [
    {
     "name": "stdout",
     "output_type": "stream",
     "text": [
      "Valid email: john.doe@example.com\n",
      "Valid email: alice_123@gmail.co.in\n",
      "Valid email: bob@company.org\n",
      "Valid email: tejas.maskar@uni.edu\n",
      "Valid email: no_reply@service.io\n"
     ]
    }
   ],
   "source": [
    " \n",
    "for mail in emails:\n",
    "    if re.match(mail_pattern, mail):\n",
    "        print(f\"Valid email: {mail}\")\n",
    "    else:\n",
    "        print(f\"Invalid email: {mail}\")\n"
   ]
  },
  {
   "cell_type": "code",
   "execution_count": 11,
   "id": "424b4676",
   "metadata": {},
   "outputs": [
    {
     "name": "stdout",
     "output_type": "stream",
     "text": [
      "Email: john.doe@example.com - Match: ['john.doe@example.c']\n",
      "Email: alice_123@gmail.co.in - Match: ['alice_123@gmail.c']\n",
      "Email: bob@company.org - Match: ['bob@company.o']\n",
      "Email: tejas.maskar@uni.edu - Match: ['tejas.maskar@uni.e']\n",
      "Email: no_reply@service.io - Match: ['no_reply@service.i']\n"
     ]
    }
   ],
   "source": [
    "\n",
    "for mail in emails:\n",
    "    result = re.findall(mail_pattern, mail)\n",
    "    print(f\"Email: {mail} - Match: {result}\")"
   ]
  },
  {
   "cell_type": "code",
   "execution_count": 12,
   "id": "89561b3b",
   "metadata": {},
   "outputs": [
    {
     "name": "stdout",
     "output_type": "stream",
     "text": [
      "Email: john.doe@example.com - No match found\n",
      "Email: alice_123@gmail.co.in - No match found\n",
      "Email: bob@company.org - No match found\n",
      "Email: tejas.maskar@uni.edu - No match found\n",
      "Email: no_reply@service.io - Match: no_reply@service.io\n"
     ]
    }
   ],
   "source": [
    "ma = 'no_reply@service.io'\n",
    "\n",
    "for mail in emails:\n",
    "    mail_pattern = re.search(ma, mail)\n",
    "    if mail_pattern:\n",
    "        print(f\"Email: {mail} - Match: {mail_pattern.group()}\")\n",
    "    else:\n",
    "        print(f\"Email: {mail} - No match found\")"
   ]
  },
  {
   "cell_type": "code",
   "execution_count": 28,
   "id": "174d7a39",
   "metadata": {},
   "outputs": [
    {
     "name": "stdout",
     "output_type": "stream",
     "text": [
      "Name found: Mohit\n"
     ]
    }
   ],
   "source": [
    "sample = \"\"\"Mohit works at google and his mail id is mohit.sharma@google.org mo.sharma@otter.ai and his phone number is +91-9876543210 and\n",
    "his altrernate phone number is 123-456-7890.\"\"\"\n",
    "\n",
    "name_pattern = r\"\\b[A-Z][a-z]+\\b\"\n",
    "\n",
    "matches = re.findall(name_pattern, sample)\n",
    "for word in matches:\n",
    "    print(f\"Name found: {word}\")"
   ]
  },
  {
   "cell_type": "code",
   "execution_count": 29,
   "id": "a3471ce7",
   "metadata": {},
   "outputs": [
    {
     "name": "stdout",
     "output_type": "stream",
     "text": [
      "Email found: mohit.sharma@google.org\n",
      "Email found: mo.sharma@otter.ai\n"
     ]
    }
   ],
   "source": [
    "mail_pattern = r\"\\b[\\w\\.]+@[\\w]+\\.[\\w]+\\b\"\n",
    "matches = re.findall(mail_pattern, sample)\n",
    "for mail in matches:\n",
    "    print(f\"Email found: {mail}\")\n",
    "    "
   ]
  }
 ],
 "metadata": {
  "kernelspec": {
   "display_name": "Python 3",
   "language": "python",
   "name": "python3"
  },
  "language_info": {
   "codemirror_mode": {
    "name": "ipython",
    "version": 3
   },
   "file_extension": ".py",
   "mimetype": "text/x-python",
   "name": "python",
   "nbconvert_exporter": "python",
   "pygments_lexer": "ipython3",
   "version": "3.13.4"
  }
 },
 "nbformat": 4,
 "nbformat_minor": 5
}
