{
 "cells": [
  {
   "cell_type": "code",
   "execution_count": null,
   "id": "0213a196",
   "metadata": {},
   "outputs": [],
   "source": []
  },
  {
   "cell_type": "code",
   "execution_count": 17,
   "id": "34f80475",
   "metadata": {},
   "outputs": [],
   "source": [
    "student=[]"
   ]
  },
  {
   "cell_type": "code",
   "execution_count": 18,
   "id": "43134fd7",
   "metadata": {},
   "outputs": [
    {
     "name": "stdout",
     "output_type": "stream",
     "text": [
      "\n",
      "1. Add Student\n",
      "2. Display Students\n",
      "3. Search Student\n",
      "4. Delete Student\n",
      "5. Exit\n",
      "Exiting the program.\n"
     ]
    }
   ],
   "source": [
    "def main():\n",
    "    while True:\n",
    "        print(\"\\n1. Add Student\")\n",
    "        print(\"2. Display Students\")\n",
    "        print(\"3. Search Student\")\n",
    "        print(\"4. Delete Student\")\n",
    "        print(\"5. Exit\")\n",
    "        choice = input(\"Enter your choice: \")\n",
    "\n",
    "        if choice == '1':\n",
    "            print(\"\\nEnter Student Details:\")\n",
    "            student_id = input(\"ID     : \")\n",
    "            name = input(\"Name   : \")\n",
    "            age = input(\"Age    : \")\n",
    "            grade = input(\"Grade  : \")\n",
    "            add_student(student_id, name, age, grade)\n",
    "\n",
    "        elif choice == '2':\n",
    "            display_stu()\n",
    "\n",
    "        elif choice == '3':\n",
    "            student_id = input(\"Enter student ID to search: \")\n",
    "            search_stu(student_id)\n",
    "\n",
    "        elif choice == '4':\n",
    "            delete_stu()\n",
    "\n",
    "        elif choice == '5':\n",
    "            print(\"Exiting the program.\")\n",
    "            break\n",
    "\n",
    "        else:\n",
    "            print(\"Invalid choice. Please try again.\")\n",
    "\n",
    "def add_student(student_id, name, age, grade):\n",
    "    student_data = {\n",
    "        'ID': student_id,\n",
    "        'Name': name,\n",
    "        'Age': age,\n",
    "        'Grade': grade\n",
    "    }\n",
    "    student.append(student_data)\n",
    "    print(f\"\\nStudent '{name}' added successfully.\")\n",
    "\n",
    "def display_stu():\n",
    "    if not student:\n",
    "        print(\"\\nNo students found.\")\n",
    "        return\n",
    "    print(\"\\nID | Name | Age | Grade\")\n",
    "    print(\"-\" * 25)\n",
    "    for s in student:\n",
    "        print(f\"{s['ID']} | {s['Name']} | {s['Age']} | {s['Grade']}\")\n",
    "    print(\"-\" * 25)\n",
    "\n",
    "def search_stu(student_id):\n",
    "    for s in student:\n",
    "        if s['ID'] == student_id:\n",
    "            print(\"\\nFound student:\")\n",
    "            print(f\"ID    : {s['ID']}\")\n",
    "            print(f\"Name  : {s['Name']}\")\n",
    "            print(f\"Age   : {s['Age']}\")\n",
    "            print(f\"Grade : {s['Grade']}\")\n",
    "            return\n",
    "    print(\"Student not found.\")\n",
    "\n",
    "def delete_stu():\n",
    "    student_id = input(\"Enter student ID to delete: \")\n",
    "    for s in student:\n",
    "        if s['ID'] == student_id:\n",
    "            student.remove(s)\n",
    "            print(f\"\\nStudent '{s['Name']}' deleted successfully.\")\n",
    "            return\n",
    "    print(\"Student not found.\")\n",
    "\n",
    "\n",
    "main()"
   ]
  },
  {
   "cell_type": "code",
   "execution_count": null,
   "id": "a72512be",
   "metadata": {},
   "outputs": [],
   "source": []
  }
 ],
 "metadata": {
  "kernelspec": {
   "display_name": "Python 3",
   "language": "python",
   "name": "python3"
  },
  "language_info": {
   "codemirror_mode": {
    "name": "ipython",
    "version": 3
   },
   "file_extension": ".py",
   "mimetype": "text/x-python",
   "name": "python",
   "nbconvert_exporter": "python",
   "pygments_lexer": "ipython3",
   "version": "3.13.4"
  }
 },
 "nbformat": 4,
 "nbformat_minor": 5
}
