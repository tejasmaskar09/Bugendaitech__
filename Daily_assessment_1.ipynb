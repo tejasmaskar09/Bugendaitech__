{
 "cells": [
  {
   "cell_type": "code",
   "execution_count": 1,
   "id": "aa423ab3",
   "metadata": {},
   "outputs": [],
   "source": [
    "import numpy as np\n"
   ]
  },
  {
   "cell_type": "code",
   "execution_count": 2,
   "id": "330e42ee",
   "metadata": {},
   "outputs": [
    {
     "name": "stdout",
     "output_type": "stream",
     "text": [
      "20.0\n",
      "30.0\n"
     ]
    }
   ],
   "source": [
    "A=float(input(\"Enter no. a =\"))\n",
    "B=float(input(\"Enter no. b =\"))\n",
    "\n",
    "print(A)\n",
    "print(B)"
   ]
  },
  {
   "cell_type": "code",
   "execution_count": 3,
   "id": "fb7f8c62",
   "metadata": {},
   "outputs": [],
   "source": [
    "op=input(\"Enter Operation : \")"
   ]
  },
  {
   "cell_type": "code",
   "execution_count": 4,
   "id": "9bf3d775",
   "metadata": {},
   "outputs": [
    {
     "name": "stdout",
     "output_type": "stream",
     "text": [
      "Multiplication =  600.0\n"
     ]
    }
   ],
   "source": [
    "value = op\n",
    "\n",
    "if value == \"+\":\n",
    "    print(\"Addition = \",A+B)\n",
    "elif value == \"-\":\n",
    "    print(\"Subtraction = \",A-B)\n",
    "elif value ==\"*\":\n",
    "    print(\"Multiplication = \",A*B)\n",
    "elif value ==\"/\":\n",
    "    print(\"Division = \",A/B)\n",
    "else:\n",
    "    print(\"Wrong Operation...........\")\n"
   ]
  }
 ],
 "metadata": {
  "kernelspec": {
   "display_name": "Python 3",
   "language": "python",
   "name": "python3"
  },
  "language_info": {
   "codemirror_mode": {
    "name": "ipython",
    "version": 3
   },
   "file_extension": ".py",
   "mimetype": "text/x-python",
   "name": "python",
   "nbconvert_exporter": "python",
   "pygments_lexer": "ipython3",
   "version": "3.13.4"
  }
 },
 "nbformat": 4,
 "nbformat_minor": 5
}
