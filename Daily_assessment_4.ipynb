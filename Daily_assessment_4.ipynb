{
 "cells": [
  {
   "cell_type": "markdown",
   "id": "a3d1c83b",
   "metadata": {},
   "source": [
    "(netflix_titles.csv)"
   ]
  },
  {
   "cell_type": "code",
   "execution_count": 2,
   "id": "e7e66592",
   "metadata": {},
   "outputs": [],
   "source": [
    "import pandas as pd\n",
    "import numpy as np\n",
    "import os"
   ]
  },
  {
   "cell_type": "code",
   "execution_count": 3,
   "id": "56693fbd",
   "metadata": {},
   "outputs": [
    {
     "name": "stdout",
     "output_type": "stream",
     "text": [
      "File successfully loaded!\n"
     ]
    }
   ],
   "source": [
    "\n",
    "file_pt=(str(input(\"Enter the file path: \")))\n",
    "if os.path.exists(file_pt):\n",
    "    df = pd.read_csv(file_pt)\n",
    "    print(\"File successfully loaded!\")"
   ]
  },
  {
   "cell_type": "code",
   "execution_count": 4,
   "id": "f9de2b1f",
   "metadata": {},
   "outputs": [
    {
     "name": "stdout",
     "output_type": "stream",
     "text": [
      "Number of columns: 12\n",
      "Column names: Index(['show_id', 'type', 'title', 'director', 'cast', 'country', 'date_added',\n",
      "       'release_year', 'rating', 'duration', 'listed_in', 'description'],\n",
      "      dtype='object')\n"
     ]
    }
   ],
   "source": [
    "num_columns = len(df.columns)\n",
    "print(f\"Number of columns: {num_columns}\")\n",
    "name = df.columns[0:12]  \n",
    "print(f\"Column names: {name}\")"
   ]
  },
  {
   "cell_type": "code",
   "execution_count": 5,
   "id": "8d841c27",
   "metadata": {},
   "outputs": [
    {
     "name": "stdout",
     "output_type": "stream",
     "text": [
      "Column list:\n",
      " ['show_id', 'type', 'title', 'director', 'cast', 'country', 'date_added', 'release_year', 'rating', 'duration', 'listed_in', 'description']\n"
     ]
    },
    {
     "data": {
      "text/plain": [
       "'Columns converted to list successfully!'"
      ]
     },
     "execution_count": 5,
     "metadata": {},
     "output_type": "execute_result"
    }
   ],
   "source": [
    "\n",
    "columns_list=df.columns.to_list()\n",
    "print(\"Column list:\\n\", columns_list)\n",
    "\"\"\"Columns converted to list successfully!\"\"\"\n"
   ]
  },
  {
   "cell_type": "code",
   "execution_count": null,
   "id": "052a862a",
   "metadata": {},
   "outputs": [],
   "source": []
  },
  {
   "cell_type": "code",
   "execution_count": 6,
   "id": "2ad5f92b",
   "metadata": {},
   "outputs": [
    {
     "name": "stdout",
     "output_type": "stream",
     "text": [
      "\n",
      "Shows from India:\n",
      "                            title country\n",
      "4                    Kota Factory   India\n",
      "24                          Jeans   India\n",
      "39                   Chhota Bheem   India\n",
      "50                  Dharmakshetra   India\n",
      "66  Raja Rasoi Aur Anya Kahaniyan   India\n"
     ]
    }
   ],
   "source": [
    "#shows of india \n",
    "def indian_shows(data):\n",
    "    india_shows = data[data['country']=='India']\n",
    "    print(\"\\nShows from India:\")\n",
    "    print(india_shows[['title','country']].head())\n",
    "    return india_shows\n",
    "indian=indian_shows(df)"
   ]
  },
  {
   "cell_type": "code",
   "execution_count": 7,
   "id": "ffd87d92",
   "metadata": {},
   "outputs": [
    {
     "name": "stdout",
     "output_type": "stream",
     "text": [
      "\n",
      "Shows sorted by release year:\n",
      "                                     title  release_year\n",
      "693                 Ali & Ratu Ratu Queens          2021\n",
      "781  Black Holes | The Edge of All We Know          2021\n",
      "762                           Sweet & Sour          2021\n",
      "763                            Sweet Tooth          2021\n",
      "764           Trippin' with the Kandasamys          2021\n"
     ]
    }
   ],
   "source": [
    "def sort_by_year(data):\n",
    "    result = data.sort_values('release_year', ascending=False)\n",
    "    print(\"\\nShows sorted by release year:\")\n",
    "    print(result[['title', 'release_year']][:5])\n",
    "    return result\n",
    "sorted_shows = sort_by_year(df)"
   ]
  },
  {
   "cell_type": "code",
   "execution_count": 8,
   "id": "fc4d3f80",
   "metadata": {},
   "outputs": [
    {
     "name": "stdout",
     "output_type": "stream",
     "text": [
      "All columns:\n",
      "   show_id     type                  title         director  \\\n",
      "0      s1    Movie   Dick Johnson Is Dead  Kirsten Johnson   \n",
      "1      s2  TV Show          Blood & Water              NaN   \n",
      "2      s3  TV Show              Ganglands  Julien Leclercq   \n",
      "3      s4  TV Show  Jailbirds New Orleans              NaN   \n",
      "4      s5  TV Show           Kota Factory              NaN   \n",
      "\n",
      "                                                cast        country  \\\n",
      "0                                                NaN  United States   \n",
      "1  Ama Qamata, Khosi Ngema, Gail Mabalane, Thaban...   South Africa   \n",
      "2  Sami Bouajila, Tracy Gotoas, Samuel Jouy, Nabi...            NaN   \n",
      "3                                                NaN            NaN   \n",
      "4  Mayur More, Jitendra Kumar, Ranjan Raj, Alam K...          India   \n",
      "\n",
      "           date_added  release_year rating   duration  \\\n",
      "0  September 25, 2021          2020  PG-13     90 min   \n",
      "1  September 24, 2021          2021  TV-MA  2 Seasons   \n",
      "2  September 24, 2021          2021  TV-MA   1 Season   \n",
      "3  September 24, 2021          2021  TV-MA   1 Season   \n",
      "4  September 24, 2021          2021  TV-MA  2 Seasons   \n",
      "\n",
      "                                           listed_in  \\\n",
      "0                                      Documentaries   \n",
      "1    International TV Shows, TV Dramas, TV Mysteries   \n",
      "2  Crime TV Shows, International TV Shows, TV Act...   \n",
      "3                             Docuseries, Reality TV   \n",
      "4  International TV Shows, Romantic TV Shows, TV ...   \n",
      "\n",
      "                                         description  \n",
      "0  As her father nears the end of his life, filmm...  \n",
      "1  After crossing paths at a party, a Cape Town t...  \n",
      "2  To protect his family from a powerful drug lor...  \n",
      "3  Feuds, flirtations and toilet talk go down amo...  \n",
      "4  In a city of coaching centers known to train I...  \n"
     ]
    }
   ],
   "source": [
    "subset1 = df[df.columns[0:12]]\n",
    "print(\"All columns:\\n\", subset1.head())\n"
   ]
  },
  {
   "cell_type": "code",
   "execution_count": 9,
   "id": "a4102499",
   "metadata": {},
   "outputs": [
    {
     "name": "stdout",
     "output_type": "stream",
     "text": [
      "0 to 5:\n",
      "   show_id     type                  title         director  \\\n",
      "0      s1    Movie   Dick Johnson Is Dead  Kirsten Johnson   \n",
      "1      s2  TV Show          Blood & Water              NaN   \n",
      "2      s3  TV Show              Ganglands  Julien Leclercq   \n",
      "3      s4  TV Show  Jailbirds New Orleans              NaN   \n",
      "4      s5  TV Show           Kota Factory              NaN   \n",
      "\n",
      "                                                cast  \n",
      "0                                                NaN  \n",
      "1  Ama Qamata, Khosi Ngema, Gail Mabalane, Thaban...  \n",
      "2  Sami Bouajila, Tracy Gotoas, Samuel Jouy, Nabi...  \n",
      "3                                                NaN  \n",
      "4  Mayur More, Jitendra Kumar, Ranjan Raj, Alam K...  \n"
     ]
    }
   ],
   "source": [
    "subset2 = df[df.columns[0:5]]\n",
    "print(\"0 to 5:\\n\", subset2.head())\n",
    "\n",
    "\n"
   ]
  },
  {
   "cell_type": "code",
   "execution_count": 10,
   "id": "18849653",
   "metadata": {},
   "outputs": [
    {
     "name": "stdout",
     "output_type": "stream",
     "text": [
      "5 - 12\n",
      "          country          date_added  release_year rating   duration  \\\n",
      "0  United States  September 25, 2021          2020  PG-13     90 min   \n",
      "1   South Africa  September 24, 2021          2021  TV-MA  2 Seasons   \n",
      "2            NaN  September 24, 2021          2021  TV-MA   1 Season   \n",
      "3            NaN  September 24, 2021          2021  TV-MA   1 Season   \n",
      "4          India  September 24, 2021          2021  TV-MA  2 Seasons   \n",
      "\n",
      "                                           listed_in  \\\n",
      "0                                      Documentaries   \n",
      "1    International TV Shows, TV Dramas, TV Mysteries   \n",
      "2  Crime TV Shows, International TV Shows, TV Act...   \n",
      "3                             Docuseries, Reality TV   \n",
      "4  International TV Shows, Romantic TV Shows, TV ...   \n",
      "\n",
      "                                         description  \n",
      "0  As her father nears the end of his life, filmm...  \n",
      "1  After crossing paths at a party, a Cape Town t...  \n",
      "2  To protect his family from a powerful drug lor...  \n",
      "3  Feuds, flirtations and toilet talk go down amo...  \n",
      "4  In a city of coaching centers known to train I...  \n"
     ]
    }
   ],
   "source": [
    "subset3 = df[df.columns[5:12]]\n",
    "print(\"5 - 12\\n\", subset3.head())\n"
   ]
  }
 ],
 "metadata": {
  "kernelspec": {
   "display_name": "Python 3",
   "language": "python",
   "name": "python3"
  },
  "language_info": {
   "codemirror_mode": {
    "name": "ipython",
    "version": 3
   },
   "file_extension": ".py",
   "mimetype": "text/x-python",
   "name": "python",
   "nbconvert_exporter": "python",
   "pygments_lexer": "ipython3",
   "version": "3.13.4"
  }
 },
 "nbformat": 4,
 "nbformat_minor": 5
}
