{
 "cells": [
  {
   "cell_type": "code",
   "execution_count": 3,
   "id": "d89db0c2",
   "metadata": {},
   "outputs": [],
   "source": [
    "import numpy as np\n",
    "import pandas as pd\n"
   ]
  },
  {
   "cell_type": "code",
   "execution_count": 7,
   "id": "241d3635",
   "metadata": {},
   "outputs": [
    {
     "name": "stdout",
     "output_type": "stream",
     "text": [
      "Helloo...\n"
     ]
    }
   ],
   "source": [
    "def greet():\n",
    "    print(\"Helloo...\")\n",
    "greet()"
   ]
  },
  {
   "cell_type": "code",
   "execution_count": 10,
   "id": "18aea4b0",
   "metadata": {},
   "outputs": [
    {
     "name": "stdout",
     "output_type": "stream",
     "text": [
      "Outer  10\n"
     ]
    }
   ],
   "source": [
    "x=20\n",
    "def demo():\n",
    "    x=10\n",
    "    print(\"Outer \",x)\n",
    "demo()"
   ]
  },
  {
   "cell_type": "code",
   "execution_count": 11,
   "id": "f2ee442c",
   "metadata": {},
   "outputs": [
    {
     "name": "stdout",
     "output_type": "stream",
     "text": [
      "100\n"
     ]
    }
   ],
   "source": [
    "def demo1():\n",
    "    z=100\n",
    "    print (z)\n",
    "demo1()"
   ]
  },
  {
   "cell_type": "code",
   "execution_count": 15,
   "id": "f75d795b",
   "metadata": {},
   "outputs": [
    {
     "name": "stdout",
     "output_type": "stream",
     "text": [
      "inside :  30\n",
      "out :  30\n"
     ]
    }
   ],
   "source": [
    "def d1():\n",
    "    global x\n",
    "    x=30\n",
    "    print(\"inside : \",x)\n",
    "d1()\n",
    "def d2():\n",
    "    print(\"out : \",x)\n",
    "d2()"
   ]
  },
  {
   "cell_type": "code",
   "execution_count": 58,
   "id": "8794e919",
   "metadata": {},
   "outputs": [
    {
     "name": "stdout",
     "output_type": "stream",
     "text": [
      "Student Name :  Tejas Maskar\n",
      "Marks 1 :  20.0\n",
      "Marks 2 :  30.0\n",
      "Marks 3 :  40.0\n",
      "Average Marks: 30.0\n"
     ]
    }
   ],
   "source": [
    "def marks(nm=(str(input(\"Enter name : \"))),\n",
    "          m1=(float(input(\"Enter marks 1 : \"))),\n",
    "          m2=(float(input(\"Enter marks 2 : \"))),\n",
    "          m3=(float(input(\"Enter marks 3 : \")))):\n",
    "    \n",
    "    print(\"Student Name : \", nm)\n",
    "    print(\"Marks 1 : \", m1)\n",
    "    print(\"Marks 2 : \", m2)\n",
    "    print(\"Marks 3 : \", m3)\n",
    "\n",
    " \n",
    "    def avg(m1, m2, m3):\n",
    "        a = (m1 + m2 + m3) / 3\n",
    "        print(\"Average Marks:\", a)\n",
    "    \n",
    "    avg(m1, m2, m3)\n",
    "\n",
    "marks()\n"
   ]
  },
  {
   "cell_type": "markdown",
   "id": "322ea142",
   "metadata": {},
   "source": [
    "DATE : 10-06-2025\n"
   ]
  },
  {
   "cell_type": "code",
   "execution_count": 1,
   "id": "f0603f98",
   "metadata": {},
   "outputs": [],
   "source": [
    "fr=['apple','banana','gauva','grapes']\n"
   ]
  },
  {
   "cell_type": "code",
   "execution_count": 2,
   "id": "4fc4ff06",
   "metadata": {},
   "outputs": [
    {
     "name": "stdout",
     "output_type": "stream",
     "text": [
      "center :  {'gauva'}\n"
     ]
    }
   ],
   "source": [
    "print('center : ',{fr[-2]})"
   ]
  },
  {
   "cell_type": "code",
   "execution_count": 3,
   "id": "238184ae",
   "metadata": {},
   "outputs": [],
   "source": [
    "num=[0,1,2,3,4,5,6,7,8,9]\n"
   ]
  },
  {
   "cell_type": "code",
   "execution_count": null,
   "id": "f96b2f34",
   "metadata": {},
   "outputs": [],
   "source": [
    "print(f\"every 2nd num: \")"
   ]
  },
  {
   "cell_type": "code",
   "execution_count": 1,
   "id": "5e0aec13",
   "metadata": {},
   "outputs": [],
   "source": [
    "stu=[]"
   ]
  },
  {
   "cell_type": "code",
   "execution_count": 5,
   "id": "54980d7a",
   "metadata": {},
   "outputs": [
    {
     "name": "stdout",
     "output_type": "stream",
     "text": [
      "\n",
      "Student Management System\n",
      "1. Add Student\n",
      "2. Display Students\n",
      "3. Search Student\n",
      "4. Delete Student\n",
      "5. Exit\n",
      "\n",
      "Student 'baa' added successfully.\n",
      "\n",
      "Student Management System\n",
      "1. Add Student\n",
      "2. Display Students\n",
      "3. Search Student\n",
      "4. Delete Student\n",
      "5. Exit\n",
      "\n",
      "ID | Name | Age | Grade\n",
      "-------------------------\n",
      "3 | baa | 20 | A\n",
      "-------------------------\n",
      "\n",
      "Student Management System\n",
      "1. Add Student\n",
      "2. Display Students\n",
      "3. Search Student\n",
      "4. Delete Student\n",
      "5. Exit\n",
      "\n",
      "ID | Name | Age | Grade\n",
      "-------------------------\n",
      "3 | baa | 20 | A\n",
      "-------------------------\n",
      "\n",
      "Student Management System\n",
      "1. Add Student\n",
      "2. Display Students\n",
      "3. Search Student\n",
      "4. Delete Student\n",
      "5. Exit\n",
      "Exiting the system.\n"
     ]
    }
   ],
   "source": [
    "stu=[]\n",
    "def add_student(student_id, name, age, grade):\n",
    "    student_data = {\n",
    "        'ID': student_id,\n",
    "        'Name': name,\n",
    "        'Age': age,\n",
    "        'Grade': grade\n",
    "    }\n",
    "    stu.append(student_data)\n",
    "    print(f\"\\nStudent '{name}' added successfully.\")\n",
    "def display_stu():\n",
    "    if not stu:\n",
    "        print(\"\\nNo students found.\")\n",
    "        return\n",
    "    print(\"\\nID | Name | Age | Grade\")\n",
    "    print(\"-\" * 25)\n",
    "    for s in stu:\n",
    "        print(f\"{s['ID']} | {s['Name']} | {s['Age']} | {s['Grade']}\")\n",
    "    print(\"-\" * 25)\n",
    "def search_student(student_id):\n",
    "    for s in stu:\n",
    "        if s['ID'] == student_id:\n",
    "            print(f\"\\nStudent found: {s['Name']}, Age: {s['Age']}, Grade: {s['Grade']}\")\n",
    "            return\n",
    "    print(\"\\nStudent not found.\")\n",
    "def delete_student(student_id):\n",
    "    global stu\n",
    "    stu = [s for s in stu if s['ID'] != student_id]\n",
    "    print(f\"\\nStudent with ID {student_id} deleted successfully.\")\n",
    "\n",
    "def main(): \n",
    "    while True:\n",
    "        print(\"\\nStudent Management System\")\n",
    "        print(\"1. Add Student\")\n",
    "        print(\"2. Display Students\")\n",
    "        print(\"3. Search Student\")\n",
    "        print(\"4. Delete Student\")\n",
    "        print(\"5. Exit\")\n",
    "        \n",
    "        choice = input(\"Enter your choice: \")\n",
    "        \n",
    "        if choice == '1':\n",
    "            student_id = input(\"Enter student ID: \")\n",
    "            name = input(\"Enter student name: \")\n",
    "            age = int(input(\"Enter student age: \"))\n",
    "            grade = input(\"Enter student grade: \")\n",
    "            add_student(student_id, name, age, grade)\n",
    "        elif choice == '2':\n",
    "            display_stu()\n",
    "        elif choice == '3':\n",
    "            student_id = input(\"Enter student ID to search: \")\n",
    "            search_student(student_id)\n",
    "        elif choice == '4':\n",
    "            student_id = input(\"Enter student ID to delete: \")\n",
    "            delete_student(student_id)\n",
    "        elif choice == '5':\n",
    "            print(\"Exiting the system.\")\n",
    "            break\n",
    "        else:\n",
    "            print(\"Invalid choice. Please try again.\")\n",
    "if __name__ == \"__main__\":\n",
    "    main()"
   ]
  }
 ],
 "metadata": {
  "kernelspec": {
   "display_name": "Python 3",
   "language": "python",
   "name": "python3"
  },
  "language_info": {
   "codemirror_mode": {
    "name": "ipython",
    "version": 3
   },
   "file_extension": ".py",
   "mimetype": "text/x-python",
   "name": "python",
   "nbconvert_exporter": "python",
   "pygments_lexer": "ipython3",
   "version": "3.13.4"
  }
 },
 "nbformat": 4,
 "nbformat_minor": 5
}
